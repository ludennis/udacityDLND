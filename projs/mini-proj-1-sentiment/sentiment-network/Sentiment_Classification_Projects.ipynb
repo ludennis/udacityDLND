{
 "cells": [
  {
   "cell_type": "markdown",
   "metadata": {},
   "source": [
    "# Sentiment Classification & How To \"Frame Problems\" for a Neural Network\n",
    "\n",
    "by Andrew Trask\n",
    "\n",
    "- **Twitter**: @iamtrask\n",
    "- **Blog**: http://iamtrask.github.io"
   ]
  },
  {
   "cell_type": "markdown",
   "metadata": {},
   "source": [
    "### What You Should Already Know\n",
    "\n",
    "- neural networks, forward and back-propagation\n",
    "- stochastic gradient descent\n",
    "- mean squared error\n",
    "- and train/test splits\n",
    "\n",
    "### Where to Get Help if You Need it\n",
    "- Re-watch previous Udacity Lectures\n",
    "- Leverage the recommended Course Reading Material - [Grokking Deep Learning](https://www.manning.com/books/grokking-deep-learning) (Check inside your classroom for a discount code)\n",
    "- Shoot me a tweet @iamtrask\n",
    "\n",
    "\n",
    "### Tutorial Outline:\n",
    "\n",
    "- Intro: The Importance of \"Framing a Problem\" (this lesson)\n",
    "\n",
    "- [Curate a Dataset](#lesson_1)\n",
    "- [Developing a \"Predictive Theory\"](#lesson_2)\n",
    "- [**PROJECT 1**: Quick Theory Validation](#project_1)\n",
    "\n",
    "\n",
    "- [Transforming Text to Numbers](#lesson_3)\n",
    "- [**PROJECT 2**: Creating the Input/Output Data](#project_2)\n",
    "\n",
    "\n",
    "- Putting it all together in a Neural Network (video only - nothing in notebook)\n",
    "- [**PROJECT 3**: Building our Neural Network](#project_3)\n",
    "\n",
    "\n",
    "- [Understanding Neural Noise](#lesson_4)\n",
    "- [**PROJECT 4**: Making Learning Faster by Reducing Noise](#project_4)\n",
    "\n",
    "\n",
    "- [Analyzing Inefficiencies in our Network](#lesson_5)\n",
    "- [**PROJECT 5**: Making our Network Train and Run Faster](#project_5)\n",
    "\n",
    "\n",
    "- [Further Noise Reduction](#lesson_6)\n",
    "- [**PROJECT 6**: Reducing Noise by Strategically Reducing the Vocabulary](#project_6)\n",
    "\n",
    "\n",
    "- [Analysis: What's going on in the weights?](#lesson_7)"
   ]
  },
  {
   "cell_type": "markdown",
   "metadata": {
    "nbpresent": {
     "id": "56bb3cba-260c-4ebe-9ed6-b995b4c72aa3"
    }
   },
   "source": [
    "# Lesson: Curate a Dataset<a id='lesson_1'></a>\n",
    "The cells from here until Project 1 include code Andrew shows in the videos leading up to mini project 1. We've included them so you can run the code along with the videos without having to type in everything."
   ]
  },
  {
   "cell_type": "code",
   "execution_count": null,
   "metadata": {
    "collapsed": true,
    "nbpresent": {
     "id": "eba2b193-0419-431e-8db9-60f34dd3fe83"
    }
   },
   "outputs": [],
   "source": [
    "def pretty_print_review_and_label(i):\n",
    "    print(labels[i] + \"\\t:\\t\" + reviews[i][:80] + \"...\")\n",
    "\n",
    "g = open('reviews.txt','r') # What we know!\n",
    "reviews = list(map(lambda x:x[:-1],g.readlines()))\n",
    "g.close()\n",
    "\n",
    "g = open('labels.txt','r') # What we WANT to know!\n",
    "labels = list(map(lambda x:x[:-1].upper(),g.readlines()))\n",
    "g.close()"
   ]
  },
  {
   "cell_type": "markdown",
   "metadata": {},
   "source": [
    "**Note:** The data in `reviews.txt` we're using has already been preprocessed a bit and contains only lower case characters. If we were working from raw data, where we didn't know it was all lower case, we would want to add a step here to convert it. That's so we treat different variations of the same word, like `The`, `the`, and `THE`, all the same way."
   ]
  },
  {
   "cell_type": "code",
   "execution_count": null,
   "metadata": {
    "collapsed": true
   },
   "outputs": [],
   "source": [
    "len(reviews)"
   ]
  },
  {
   "cell_type": "code",
   "execution_count": null,
   "metadata": {
    "collapsed": true,
    "nbpresent": {
     "id": "bb95574b-21a0-4213-ae50-34363cf4f87f"
    }
   },
   "outputs": [],
   "source": [
    "reviews[0]"
   ]
  },
  {
   "cell_type": "code",
   "execution_count": null,
   "metadata": {
    "collapsed": true,
    "nbpresent": {
     "id": "e0408810-c424-4ed4-afb9-1735e9ddbd0a"
    }
   },
   "outputs": [],
   "source": [
    "labels[0]"
   ]
  },
  {
   "cell_type": "markdown",
   "metadata": {},
   "source": [
    "# Lesson: Develop a Predictive Theory<a id='lesson_2'></a>"
   ]
  },
  {
   "cell_type": "code",
   "execution_count": null,
   "metadata": {
    "collapsed": true,
    "nbpresent": {
     "id": "e67a709f-234f-4493-bae6-4fb192141ee0"
    }
   },
   "outputs": [],
   "source": [
    "print(\"labels.txt \\t : \\t reviews.txt\\n\")\n",
    "pretty_print_review_and_label(2137)\n",
    "pretty_print_review_and_label(12816)\n",
    "pretty_print_review_and_label(6267)\n",
    "pretty_print_review_and_label(21934)\n",
    "pretty_print_review_and_label(5297)\n",
    "pretty_print_review_and_label(4998)"
   ]
  },
  {
   "cell_type": "markdown",
   "metadata": {},
   "source": [
    "# Project 1: Quick Theory Validation<a id='project_1'></a>\n",
    "\n",
    "There are multiple ways to implement these projects, but in order to get your code closer to what Andrew shows in his solutions, we've provided some hints and starter code throughout this notebook.\n",
    "\n",
    "You'll find the [Counter](https://docs.python.org/2/library/collections.html#collections.Counter) class to be useful in this exercise, as well as the [numpy](https://docs.scipy.org/doc/numpy/reference/) library."
   ]
  },
  {
   "cell_type": "code",
   "execution_count": null,
   "metadata": {
    "collapsed": true
   },
   "outputs": [],
   "source": [
    "from collections import Counter\n",
    "import numpy as np"
   ]
  },
  {
   "cell_type": "markdown",
   "metadata": {},
   "source": [
    "We'll create three `Counter` objects, one for words from postive reviews, one for words from negative reviews, and one for all the words."
   ]
  },
  {
   "cell_type": "code",
   "execution_count": null,
   "metadata": {
    "collapsed": true
   },
   "outputs": [],
   "source": [
    "# Create three Counter objects to store positive, negative and total counts\n",
    "positive_counts = Counter()\n",
    "negative_counts = Counter()\n",
    "total_counts = Counter()"
   ]
  },
  {
   "cell_type": "markdown",
   "metadata": {},
   "source": [
    "**TODO:** Examine all the reviews. For each word in a positive review, increase the count for that word in both your positive counter and the total words counter; likewise, for each word in a negative review, increase the count for that word in both your negative counter and the total words counter.\n",
    "\n",
    "**Note:** Throughout these projects, you should use `split(' ')` to divide a piece of text (such as a review) into individual words. If you use `split()` instead, you'll get slightly different results than what the videos and solutions show."
   ]
  },
  {
   "cell_type": "code",
   "execution_count": null,
   "metadata": {
    "collapsed": true
   },
   "outputs": [],
   "source": [
    "# TODO: Loop over all the words in all the reviews and increment the counts in the appropriate counter objects"
   ]
  },
  {
   "cell_type": "markdown",
   "metadata": {},
   "source": [
    "Run the following two cells to list the words used in positive reviews and negative reviews, respectively, ordered from most to least commonly used. "
   ]
  },
  {
   "cell_type": "code",
   "execution_count": null,
   "metadata": {
    "collapsed": true
   },
   "outputs": [],
   "source": [
    "# Examine the counts of the most common words in positive reviews\n",
    "positive_counts.most_common()"
   ]
  },
  {
   "cell_type": "code",
   "execution_count": null,
   "metadata": {
    "collapsed": true
   },
   "outputs": [],
   "source": [
    "# Examine the counts of the most common words in negative reviews\n",
    "negative_counts.most_common()"
   ]
  },
  {
   "cell_type": "markdown",
   "metadata": {},
   "source": [
    "As you can see, common words like \"the\" appear very often in both positive and negative reviews. Instead of finding the most common words in positive or negative reviews, what you really want are the words found in positive reviews more often than in negative reviews, and vice versa. To accomplish this, you'll need to calculate the **ratios** of word usage between positive and negative reviews.\n",
    "\n",
    "**TODO:** Check all the words you've seen and calculate the ratio of postive to negative uses and store that ratio in `pos_neg_ratios`. \n",
    ">Hint: the positive-to-negative ratio for a given word can be calculated with `positive_counts[word] / float(negative_counts[word]+1)`. Notice the `+1` in the denominator – that ensures we don't divide by zero for words that are only seen in positive reviews."
   ]
  },
  {
   "cell_type": "code",
   "execution_count": null,
   "metadata": {
    "collapsed": true
   },
   "outputs": [],
   "source": [
    "# Create Counter object to store positive/negative ratios\n",
    "pos_neg_ratios = Counter()\n",
    "\n",
    "# TODO: Calculate the ratios of positive and negative uses of the most common words\n",
    "#       Consider words to be \"common\" if they've been used at least 100 times"
   ]
  },
  {
   "cell_type": "markdown",
   "metadata": {},
   "source": [
    "Examine the ratios you've calculated for a few words:"
   ]
  },
  {
   "cell_type": "code",
   "execution_count": null,
   "metadata": {
    "collapsed": true
   },
   "outputs": [],
   "source": [
    "print(\"Pos-to-neg ratio for 'the' = {}\".format(pos_neg_ratios[\"the\"]))\n",
    "print(\"Pos-to-neg ratio for 'amazing' = {}\".format(pos_neg_ratios[\"amazing\"]))\n",
    "print(\"Pos-to-neg ratio for 'terrible' = {}\".format(pos_neg_ratios[\"terrible\"]))"
   ]
  },
  {
   "cell_type": "markdown",
   "metadata": {},
   "source": [
    "Looking closely at the values you just calculated, we see the following:\n",
    "\n",
    "* Words that you would expect to see more often in positive reviews – like \"amazing\" – have a ratio greater than 1. The more skewed a word is toward postive, the farther from 1 its positive-to-negative ratio  will be.\n",
    "* Words that you would expect to see more often in negative reviews – like \"terrible\" – have positive values that are less than 1. The more skewed a word is toward negative, the closer to zero its positive-to-negative ratio will be.\n",
    "* Neutral words, which don't really convey any sentiment because you would expect to see them in all sorts of reviews – like \"the\" – have values very close to 1. A perfectly neutral word – one that was used in exactly the same number of positive reviews as negative reviews – would be almost exactly 1. The `+1` we suggested you add to the denominator slightly biases words toward negative, but it won't matter because it will be a tiny bias and later we'll be ignoring words that are too close to neutral anyway.\n",
    "\n",
    "Ok, the ratios tell us which words are used more often in postive or negative reviews, but the specific values we've calculated are a bit difficult to work with. A very positive word like \"amazing\" has a value above 4, whereas a very negative word like \"terrible\" has a value around 0.18. Those values aren't easy to compare for a couple of reasons:\n",
    "\n",
    "* Right now, 1 is considered neutral, but the absolute value of the postive-to-negative rations of very postive words is larger than the absolute value of the ratios for the very negative words. So there is no way to directly compare two numbers and see if one word conveys the same magnitude of positive sentiment as another word conveys negative sentiment. So we should center all the values around netural so the absolute value fro neutral of the postive-to-negative ratio for a word would indicate how much sentiment (positive or negative) that word conveys.\n",
    "* When comparing absolute values it's easier to do that around zero than one. \n",
    "\n",
    "To fix these issues, we'll convert all of our ratios to new values using logarithms.\n",
    "\n",
    "**TODO:** Go through all the ratios you calculated and convert them to logarithms. (i.e. use `np.log(ratio)`)\n",
    "\n",
    "In the end, extremely positive and extremely negative words will have positive-to-negative ratios with similar magnitudes but opposite signs."
   ]
  },
  {
   "cell_type": "code",
   "execution_count": null,
   "metadata": {
    "collapsed": true
   },
   "outputs": [],
   "source": [
    "# TODO: Convert ratios to logs"
   ]
  },
  {
   "cell_type": "markdown",
   "metadata": {},
   "source": [
    "Examine the new ratios you've calculated for the same words from before:"
   ]
  },
  {
   "cell_type": "code",
   "execution_count": null,
   "metadata": {
    "collapsed": true
   },
   "outputs": [],
   "source": [
    "print(\"Pos-to-neg ratio for 'the' = {}\".format(pos_neg_ratios[\"the\"]))\n",
    "print(\"Pos-to-neg ratio for 'amazing' = {}\".format(pos_neg_ratios[\"amazing\"]))\n",
    "print(\"Pos-to-neg ratio for 'terrible' = {}\".format(pos_neg_ratios[\"terrible\"]))"
   ]
  },
  {
   "cell_type": "markdown",
   "metadata": {},
   "source": [
    "If everything worked, now you should see neutral words with values close to zero. In this case, \"the\" is near zero but slightly positive, so it was probably used in more positive reviews than negative reviews. But look at \"amazing\"'s ratio - it's above `1`, showing it is clearly a word with positive sentiment. And \"terrible\" has a similar score, but in the opposite direction, so it's below `-1`. It's now clear that both of these words are associated with specific, opposing sentiments.\n",
    "\n",
    "Now run the following cells to see more ratios. \n",
    "\n",
    "The first cell displays all the words, ordered by how associated they are with postive reviews. (Your notebook will most likely truncate the output so you won't actually see *all* the words in the list.)\n",
    "\n",
    "The second cell displays the 30 words most associated with negative reviews by reversing the order of the first list and then looking at the first 30 words. (If you want the second cell to display all the words, ordered by how associated they are with negative reviews, you could just write `reversed(pos_neg_ratios.most_common())`.)\n",
    "\n",
    "You should continue to see values similar to the earlier ones we checked – neutral words will be close to `0`, words will get more positive as their ratios approach and go above `1`, and words will get more negative as their ratios approach and go below `-1`. That's why we decided to use the logs instead of the raw ratios."
   ]
  },
  {
   "cell_type": "code",
   "execution_count": null,
   "metadata": {
    "collapsed": true
   },
   "outputs": [],
   "source": [
    "# words most frequently seen in a review with a \"POSITIVE\" label\n",
    "pos_neg_ratios.most_common()"
   ]
  },
  {
   "cell_type": "code",
   "execution_count": null,
   "metadata": {
    "collapsed": true
   },
   "outputs": [],
   "source": [
    "# words most frequently seen in a review with a \"NEGATIVE\" label\n",
    "list(reversed(pos_neg_ratios.most_common()))[0:30]\n",
    "\n",
    "# Note: Above is the code Andrew uses in his solution video, \n",
    "#       so we've included it here to avoid confusion.\n",
    "#       If you explore the documentation for the Counter class, \n",
    "#       you will see you could also find the 30 least common\n",
    "#       words like this: pos_neg_ratios.most_common()[:-31:-1]"
   ]
  },
  {
   "cell_type": "markdown",
   "metadata": {},
   "source": [
    "# End of Project 1. \n",
    "## Watch the next video to see Andrew's solution, then continue on to the next lesson.\n",
    "\n",
    "# Transforming Text into Numbers<a id='lesson_3'></a>\n",
    "The cells here include code Andrew shows in the next video. We've included it so you can run the code along with the video without having to type in everything."
   ]
  },
  {
   "cell_type": "code",
   "execution_count": null,
   "metadata": {
    "collapsed": true
   },
   "outputs": [],
   "source": [
    "from IPython.display import Image\n",
    "\n",
    "review = \"This was a horrible, terrible movie.\"\n",
    "\n",
    "Image(filename='sentiment_network.png')"
   ]
  },
  {
   "cell_type": "code",
   "execution_count": null,
   "metadata": {
    "collapsed": true
   },
   "outputs": [],
   "source": [
    "review = \"The movie was excellent\"\n",
    "\n",
    "Image(filename='sentiment_network_pos.png')"
   ]
  },
  {
   "cell_type": "markdown",
   "metadata": {},
   "source": [
    "# Project 2: Creating the Input/Output Data<a id='project_2'></a>\n",
    "\n",
    "**TODO:** Create a [set](https://docs.python.org/3/tutorial/datastructures.html#sets) named `vocab` that contains every word in the vocabulary."
   ]
  },
  {
   "cell_type": "code",
   "execution_count": null,
   "metadata": {
    "collapsed": true
   },
   "outputs": [],
   "source": [
    "# TODO: Create set named \"vocab\" containing all of the words from all of the reviews\n",
    "vocab = None"
   ]
  },
  {
   "cell_type": "markdown",
   "metadata": {},
   "source": [
    "Run the following cell to check your vocabulary size. If everything worked correctly, it should print **74074**"
   ]
  },
  {
   "cell_type": "code",
   "execution_count": null,
   "metadata": {
    "collapsed": true
   },
   "outputs": [],
   "source": [
    "vocab_size = len(vocab)\n",
    "print(vocab_size)"
   ]
  },
  {
   "cell_type": "markdown",
   "metadata": {},
   "source": [
    "Take a look at the following image. It represents the layers of the neural network you'll be building throughout this notebook. `layer_0` is the input layer, `layer_1` is a hidden layer, and `layer_2` is the output layer."
   ]
  },
  {
   "cell_type": "code",
   "execution_count": 1,
   "metadata": {},
   "outputs": [
    {
     "data": {
      "image/png": "[encoded data removed]",
      "text/plain": [
       "<IPython.core.display.Image object>"
      ]
     },
     "execution_count": 1,
     "metadata": {},
     "output_type": "execute_result"
    }
   ],
   "source": [
    "from IPython.display import Image\n",
    "Image(filename='sentiment_network_2.png')"
   ]
  },
  {
   "cell_type": "markdown",
   "metadata": {},
   "source": [
    "**TODO:** Create a numpy array called `layer_0` and initialize it to all zeros. You will find the [zeros](https://docs.scipy.org/doc/numpy/reference/generated/numpy.zeros.html) function particularly helpful here. Be sure you create `layer_0` as a 2-dimensional matrix with 1 row and `vocab_size` columns. "
   ]
  },
  {
   "cell_type": "code",
   "execution_count": null,
   "metadata": {
    "collapsed": true
   },
   "outputs": [],
   "source": [
    "# TODO: Create layer_0 matrix with dimensions 1 by vocab_size, initially filled with zeros\n",
    "layer_0 = None"
   ]
  },
  {
   "cell_type": "markdown",
   "metadata": {},
   "source": [
    "Run the following cell. It should display `(1, 74074)`"
   ]
  },
  {
   "cell_type": "code",
   "execution_count": null,
   "metadata": {
    "collapsed": true
   },
   "outputs": [],
   "source": [
    "layer_0.shape"
   ]
  },
  {
   "cell_type": "code",
   "execution_count": null,
   "metadata": {
    "collapsed": true
   },
   "outputs": [],
   "source": [
    "from IPython.display import Image\n",
    "Image(filename='sentiment_network.png')"
   ]
  },
  {
   "cell_type": "markdown",
   "metadata": {},
   "source": [
    "`layer_0` contains one entry for every word in the vocabulary, as shown in the above image. We need to make sure we know the index of each word, so run the following cell to create a lookup table that stores the index of every word."
   ]
  },
  {
   "cell_type": "code",
   "execution_count": null,
   "metadata": {
    "collapsed": true
   },
   "outputs": [],
   "source": [
    "# Create a dictionary of words in the vocabulary mapped to index positions\n",
    "# (to be used in layer_0)\n",
    "word2index = {}\n",
    "for i,word in enumerate(vocab):\n",
    "    word2index[word] = i\n",
    "    \n",
    "# display the map of words to indices\n",
    "word2index"
   ]
  },
  {
   "cell_type": "markdown",
   "metadata": {},
   "source": [
    "**TODO:**  Complete the implementation of `update_input_layer`. It should count \n",
    "          how many times each word is used in the given review, and then store\n",
    "          those counts at the appropriate indices inside `layer_0`."
   ]
  },
  {
   "cell_type": "code",
   "execution_count": null,
   "metadata": {
    "collapsed": true
   },
   "outputs": [],
   "source": [
    "def update_input_layer(review):\n",
    "    \"\"\" Modify the global layer_0 to represent the vector form of review.\n",
    "    The element at a given index of layer_0 should represent\n",
    "    how many times the given word occurs in the review.\n",
    "    Args:\n",
    "        review(string) - the string of the review\n",
    "    Returns:\n",
    "        None\n",
    "    \"\"\"\n",
    "    global layer_0\n",
    "    # clear out previous state by resetting the layer to be all 0s\n",
    "    layer_0 *= 0\n",
    "    \n",
    "    # TODO: count how many times each word is used in the given review and store the results in layer_0 "
   ]
  },
  {
   "cell_type": "markdown",
   "metadata": {},
   "source": [
    "Run the following cell to test updating the input layer with the first review. The indices assigned may not be the same as in the solution, but hopefully you'll see some non-zero values in `layer_0`.  "
   ]
  },
  {
   "cell_type": "code",
   "execution_count": null,
   "metadata": {
    "collapsed": true
   },
   "outputs": [],
   "source": [
    "update_input_layer(reviews[0])\n",
    "layer_0"
   ]
  },
  {
   "cell_type": "markdown",
   "metadata": {},
   "source": [
    "**TODO:** Complete the implementation of `get_target_for_labels`. It should return `0` or `1`, \n",
    "          depending on whether the given label is `NEGATIVE` or `POSITIVE`, respectively."
   ]
  },
  {
   "cell_type": "code",
   "execution_count": null,
   "metadata": {
    "collapsed": true
   },
   "outputs": [],
   "source": [
    "def get_target_for_label(label):\n",
    "    \"\"\"Convert a label to `0` or `1`.\n",
    "    Args:\n",
    "        label(string) - Either \"POSITIVE\" or \"NEGATIVE\".\n",
    "    Returns:\n",
    "        `0` or `1`.\n",
    "    \"\"\"\n",
    "    # TODO: Your code here"
   ]
  },
  {
   "cell_type": "markdown",
   "metadata": {},
   "source": [
    "Run the following two cells. They should print out`'POSITIVE'` and `1`, respectively."
   ]
  },
  {
   "cell_type": "code",
   "execution_count": null,
   "metadata": {
    "collapsed": true
   },
   "outputs": [],
   "source": [
    "labels[0]"
   ]
  },
  {
   "cell_type": "code",
   "execution_count": null,
   "metadata": {
    "collapsed": true
   },
   "outputs": [],
   "source": [
    "get_target_for_label(labels[0])"
   ]
  },
  {
   "cell_type": "markdown",
   "metadata": {},
   "source": [
    "Run the following two cells. They should print out `'NEGATIVE'` and `0`, respectively."
   ]
  },
  {
   "cell_type": "code",
   "execution_count": null,
   "metadata": {
    "collapsed": true
   },
   "outputs": [],
   "source": [
    "labels[1]"
   ]
  },
  {
   "cell_type": "code",
   "execution_count": null,
   "metadata": {
    "collapsed": true
   },
   "outputs": [],
   "source": [
    "get_target_for_label(labels[1])"
   ]
  },
  {
   "cell_type": "markdown",
   "metadata": {},
   "source": [
    "# End of Project 2. \n",
    "## Watch the next video to see Andrew's solution, then continue on to the next lesson."
   ]
  },
  {
   "cell_type": "markdown",
   "metadata": {},
   "source": [
    "# Project 3: Building a Neural Network<a id='project_3'></a>"
   ]
  },
  {
   "cell_type": "markdown",
   "metadata": {},
   "source": [
    "**TODO:** We've included the framework of a class called `SentimentNetork`. Implement all of the items marked `TODO` in the code. These include doing the following:\n",
    "- Create a basic neural network much like the networks you've seen in earlier lessons and in Project 1, with an input layer, a hidden layer, and an output layer. \n",
    "- Do **not** add a non-linearity in the hidden layer. That is, do not use an activation function when calculating the hidden layer outputs.\n",
    "- Re-use the code from earlier in this notebook to create the training data (see `TODO`s in the code)\n",
    "- Implement the `pre_process_data` function to create the vocabulary for our training data generating functions\n",
    "- Ensure `train` trains over the entire corpus"
   ]
  },
  {
   "cell_type": "markdown",
   "metadata": {},
   "source": [
    "### Where to Get Help if You Need it\n",
    "- Re-watch earlier Udacity lectures\n",
    "- Chapters 3-5 - [Grokking Deep Learning](https://www.manning.com/books/grokking-deep-learning) - (Check inside your classroom for a discount code)"
   ]
  },
  {
   "cell_type": "code",
   "execution_count": null,
   "metadata": {
    "collapsed": true
   },
   "outputs": [],
   "source": [
    "import time\n",
    "import sys\n",
    "import numpy as np\n",
    "\n",
    "# Encapsulate our neural network in a class\n",
    "class SentimentNetwork:\n",
    "    def __init__(self, reviews, labels, hidden_nodes = 10, learning_rate = 0.1):\n",
    "        \"\"\"Create a SentimenNetwork with the given settings\n",
    "        Args:\n",
    "            reviews(list) - List of reviews used for training\n",
    "            labels(list) - List of POSITIVE/NEGATIVE labels associated with the given reviews\n",
    "            hidden_nodes(int) - Number of nodes to create in the hidden layer\n",
    "            learning_rate(float) - Learning rate to use while training\n",
    "        \n",
    "        \"\"\"\n",
    "        # Assign a seed to our random number generator to ensure we get\n",
    "        # reproducable results during development \n",
    "        np.random.seed(1)\n",
    "\n",
    "        # process the reviews and their associated labels so that everything\n",
    "        # is ready for training\n",
    "        self.pre_process_data(reviews, labels)\n",
    "        \n",
    "        # Build the network to have the number of hidden nodes and the learning rate that\n",
    "        # were passed into this initializer. Make the same number of input nodes as\n",
    "        # there are vocabulary words and create a single output node.\n",
    "        self.init_network(len(self.review_vocab),hidden_nodes, 1, learning_rate)\n",
    "\n",
    "    def pre_process_data(self, reviews, labels):\n",
    "        \n",
    "        review_vocab = set()\n",
    "        # TODO: populate review_vocab with all of the words in the given reviews\n",
    "        #       Remember to split reviews into individual words \n",
    "        #       using \"split(' ')\" instead of \"split()\".\n",
    "        \n",
    "        # Convert the vocabulary set to a list so we can access words via indices\n",
    "        self.review_vocab = list(review_vocab)\n",
    "        \n",
    "        label_vocab = set()\n",
    "        # TODO: populate label_vocab with all of the words in the given labels.\n",
    "        #       There is no need to split the labels because each one is a single word.\n",
    "        \n",
    "        # Convert the label vocabulary set to a list so we can access labels via indices\n",
    "        self.label_vocab = list(label_vocab)\n",
    "        \n",
    "        # Store the sizes of the review and label vocabularies.\n",
    "        self.review_vocab_size = len(self.review_vocab)\n",
    "        self.label_vocab_size = len(self.label_vocab)\n",
    "        \n",
    "        # Create a dictionary of words in the vocabulary mapped to index positions\n",
    "        self.word2index = {}\n",
    "        # TODO: populate self.word2index with indices for all the words in self.review_vocab\n",
    "        #       like you saw earlier in the notebook\n",
    "        \n",
    "        # Create a dictionary of labels mapped to index positions\n",
    "        self.label2index = {}\n",
    "        # TODO: do the same thing you did for self.word2index and self.review_vocab, \n",
    "        #       but for self.label2index and self.label_vocab instead\n",
    "         \n",
    "        \n",
    "    def init_network(self, input_nodes, hidden_nodes, output_nodes, learning_rate):\n",
    "        # Store the number of nodes in input, hidden, and output layers.\n",
    "        self.input_nodes = input_nodes\n",
    "        self.hidden_nodes = hidden_nodes\n",
    "        self.output_nodes = output_nodes\n",
    "\n",
    "        # Store the learning rate\n",
    "        self.learning_rate = learning_rate\n",
    "\n",
    "        # Initialize weights\n",
    "        \n",
    "        # TODO: initialize self.weights_0_1 as a matrix of zeros. These are the weights between\n",
    "        #       the input layer and the hidden layer.\n",
    "        self.weights_0_1 = None\n",
    "        \n",
    "        # TODO: initialize self.weights_1_2 as a matrix of random values. \n",
    "        #       These are the weights between the hidden layer and the output layer.\n",
    "        self.weights_1_2 = None\n",
    "        \n",
    "        # TODO: Create the input layer, a two-dimensional matrix with shape \n",
    "        #       1 x input_nodes, with all values initialized to zero\n",
    "        self.layer_0 = np.zeros((1,input_nodes))\n",
    "    \n",
    "        \n",
    "    def update_input_layer(self,review):\n",
    "        # TODO: You can copy most of the code you wrote for update_input_layer \n",
    "        #       earlier in this notebook. \n",
    "        #\n",
    "        #       However, MAKE SURE YOU CHANGE ALL VARIABLES TO REFERENCE\n",
    "        #       THE VERSIONS STORED IN THIS OBJECT, NOT THE GLOBAL OBJECTS.\n",
    "        #       For example, replace \"layer_0 *= 0\" with \"self.layer_0 *= 0\"\n",
    "        pass\n",
    "                \n",
    "    def get_target_for_label(self,label):\n",
    "        # TODO: Copy the code you wrote for get_target_for_label \n",
    "        #       earlier in this notebook. \n",
    "        pass\n",
    "        \n",
    "    def sigmoid(self,x):\n",
    "        # TODO: Return the result of calculating the sigmoid activation function\n",
    "        #       shown in the lectures\n",
    "        pass\n",
    "    \n",
    "    def sigmoid_output_2_derivative(self,output):\n",
    "        # TODO: Return the derivative of the sigmoid activation function, \n",
    "        #       where \"output\" is the original output from the sigmoid fucntion \n",
    "        pass\n",
    "\n",
    "    def train(self, training_reviews, training_labels):\n",
    "        \n",
    "        # make sure out we have a matching number of reviews and labels\n",
    "        assert(len(training_reviews) == len(training_labels))\n",
    "        \n",
    "        # Keep track of correct predictions to display accuracy during training \n",
    "        correct_so_far = 0\n",
    "        \n",
    "        # Remember when we started for printing time statistics\n",
    "        start = time.time()\n",
    "\n",
    "        # loop through all the given reviews and run a forward and backward pass,\n",
    "        # updating weights for every item\n",
    "        for i in range(len(training_reviews)):\n",
    "            \n",
    "            # TODO: Get the next review and its correct label\n",
    "            \n",
    "            # TODO: Implement the forward pass through the network. \n",
    "            #       That means use the given review to update the input layer, \n",
    "            #       then calculate values for the hidden layer,\n",
    "            #       and finally calculate the output layer.\n",
    "            # \n",
    "            #       Do not use an activation function for the hidden layer,\n",
    "            #       but use the sigmoid activation function for the output layer.\n",
    "            \n",
    "            # TODO: Implement the back propagation pass here. \n",
    "            #       That means calculate the error for the forward pass's prediction\n",
    "            #       and update the weights in the network according to their\n",
    "            #       contributions toward the error, as calculated via the\n",
    "            #       gradient descent and back propagation algorithms you \n",
    "            #       learned in class.\n",
    "            \n",
    "            # TODO: Keep track of correct predictions. To determine if the prediction was\n",
    "            #       correct, check that the absolute value of the output error \n",
    "            #       is less than 0.5. If so, add one to the correct_so_far count.\n",
    "            \n",
    "            # For debug purposes, print out our prediction accuracy and speed \n",
    "            # throughout the training process. \n",
    "\n",
    "            elapsed_time = float(time.time() - start)\n",
    "            reviews_per_second = i / elapsed_time if elapsed_time > 0 else 0\n",
    "            \n",
    "            sys.stdout.write(\"\\rProgress:\" + str(100 * i/float(len(training_reviews)))[:4] \\\n",
    "                             + \"% Speed(reviews/sec):\" + str(reviews_per_second)[0:5] \\\n",
    "                             + \" #Correct:\" + str(correct_so_far) + \" #Trained:\" + str(i+1) \\\n",
    "                             + \" Training Accuracy:\" + str(correct_so_far * 100 / float(i+1))[:4] + \"%\")\n",
    "            if(i % 2500 == 0):\n",
    "                print(\"\")\n",
    "    \n",
    "    def test(self, testing_reviews, testing_labels):\n",
    "        \"\"\"\n",
    "        Attempts to predict the labels for the given testing_reviews,\n",
    "        and uses the test_labels to calculate the accuracy of those predictions.\n",
    "        \"\"\"\n",
    "        \n",
    "        # keep track of how many correct predictions we make\n",
    "        correct = 0\n",
    "\n",
    "        # we'll time how many predictions per second we make\n",
    "        start = time.time()\n",
    "\n",
    "        # Loop through each of the given reviews and call run to predict\n",
    "        # its label. \n",
    "        for i in range(len(testing_reviews)):\n",
    "            pred = self.run(testing_reviews[i])\n",
    "            if(pred == testing_labels[i]):\n",
    "                correct += 1\n",
    "            \n",
    "            # For debug purposes, print out our prediction accuracy and speed \n",
    "            # throughout the prediction process. \n",
    "\n",
    "            elapsed_time = float(time.time() - start)\n",
    "            reviews_per_second = i / elapsed_time if elapsed_time > 0 else 0\n",
    "            \n",
    "            sys.stdout.write(\"\\rProgress:\" + str(100 * i/float(len(testing_reviews)))[:4] \\\n",
    "                             + \"% Speed(reviews/sec):\" + str(reviews_per_second)[0:5] \\\n",
    "                             + \" #Correct:\" + str(correct) + \" #Tested:\" + str(i+1) \\\n",
    "                             + \" Testing Accuracy:\" + str(correct * 100 / float(i+1))[:4] + \"%\")\n",
    "    \n",
    "    def run(self, review):\n",
    "        \"\"\"\n",
    "        Returns a POSITIVE or NEGATIVE prediction for the given review.\n",
    "        \"\"\"\n",
    "        # TODO: Run a forward pass through the network, like you did in the\n",
    "        #       \"train\" function. That means use the given review to \n",
    "        #       update the input layer, then calculate values for the hidden layer,\n",
    "        #       and finally calculate the output layer.\n",
    "        #\n",
    "        #       Note: The review passed into this function for prediction \n",
    "        #             might come from anywhere, so you should convert it \n",
    "        #             to lower case prior to using it.\n",
    "        \n",
    "        # TODO: The output layer should now contain a prediction. \n",
    "        #       Return `POSITIVE` for predictions greater-than-or-equal-to `0.5`, \n",
    "        #       and `NEGATIVE` otherwise.\n",
    "        pass\n"
   ]
  },
  {
   "cell_type": "markdown",
   "metadata": {},
   "source": [
    "Run the following cell to create a `SentimentNetwork` that will train on all but the last 1000 reviews (we're saving those for testing). Here we use a learning rate of `0.1`."
   ]
  },
  {
   "cell_type": "code",
   "execution_count": null,
   "metadata": {
    "collapsed": true
   },
   "outputs": [],
   "source": [
    "mlp = SentimentNetwork(reviews[:-1000],labels[:-1000], learning_rate=0.1)"
   ]
  },
  {
   "cell_type": "markdown",
   "metadata": {},
   "source": [
    "Run the following cell to test the network's performance against the last 1000 reviews (the ones we held out from our training set). \n",
    "\n",
    "**We have not trained the model yet, so the results should be about 50% as it will just be guessing and there are only two possible values to choose from.**"
   ]
  },
  {
   "cell_type": "code",
   "execution_count": null,
   "metadata": {
    "collapsed": true
   },
   "outputs": [],
   "source": [
    "mlp.test(reviews[-1000:],labels[-1000:])"
   ]
  },
  {
   "cell_type": "markdown",
   "metadata": {},
   "source": [
    "Run the following cell to actually train the network. During training, it will display the model's accuracy repeatedly as it trains so you can see how well it's doing."
   ]
  },
  {
   "cell_type": "code",
   "execution_count": null,
   "metadata": {
    "collapsed": true
   },
   "outputs": [],
   "source": [
    "mlp.train(reviews[:-1000],labels[:-1000])"
   ]
  },
  {
   "cell_type": "markdown",
   "metadata": {},
   "source": [
    "That most likely didn't train very well. Part of the reason may be because the learning rate is too high. Run the following cell to recreate the network with a smaller learning rate, `0.01`, and then train the new network."
   ]
  },
  {
   "cell_type": "code",
   "execution_count": null,
   "metadata": {
    "collapsed": true
   },
   "outputs": [],
   "source": [
    "mlp = SentimentNetwork(reviews[:-1000],labels[:-1000], learning_rate=0.01)\n",
    "mlp.train(reviews[:-1000],labels[:-1000])"
   ]
  },
  {
   "cell_type": "markdown",
   "metadata": {},
   "source": [
    "That probably wasn't much different. Run the following cell to recreate the network one more time with an even smaller learning rate, `0.001`, and then train the new network."
   ]
  },
  {
   "cell_type": "code",
   "execution_count": null,
   "metadata": {
    "collapsed": true
   },
   "outputs": [],
   "source": [
    "mlp = SentimentNetwork(reviews[:-1000],labels[:-1000], learning_rate=0.001)\n",
    "mlp.train(reviews[:-1000],labels[:-1000])"
   ]
  },
  {
   "cell_type": "markdown",
   "metadata": {},
   "source": [
    "With a learning rate of `0.001`, the network should finall have started to improve during training. It's still not very good, but it shows that this solution has potential. We will improve it in the next lesson."
   ]
  },
  {
   "cell_type": "markdown",
   "metadata": {},
   "source": [
    "# End of Project 3. \n",
    "## Watch the next video to see Andrew's solution, then continue on to the next lesson."
   ]
  },
  {
   "cell_type": "markdown",
   "metadata": {},
   "source": [
    "# Understanding Neural Noise<a id='lesson_4'></a>\n",
    "\n",
    "The following cells include includes the code Andrew shows in the next video. We've included it here so you can run the cells along with the video without having to type in everything."
   ]
  },
  {
   "cell_type": "code",
   "execution_count": null,
   "metadata": {
    "collapsed": true
   },
   "outputs": [],
   "source": [
    "from IPython.display import Image\n",
    "Image(filename='sentiment_network.png')"
   ]
  },
  {
   "cell_type": "code",
   "execution_count": null,
   "metadata": {
    "collapsed": true
   },
   "outputs": [],
   "source": [
    "def update_input_layer(review):\n",
    "    \n",
    "    global layer_0\n",
    "    \n",
    "    # clear out previous state, reset the layer to be all 0s\n",
    "    layer_0 *= 0\n",
    "    for word in review.split(\" \"):\n",
    "        layer_0[0][word2index[word]] += 1\n",
    "\n",
    "update_input_layer(reviews[0])"
   ]
  },
  {
   "cell_type": "code",
   "execution_count": null,
   "metadata": {
    "collapsed": true
   },
   "outputs": [],
   "source": [
    "layer_0"
   ]
  },
  {
   "cell_type": "code",
   "execution_count": null,
   "metadata": {
    "collapsed": true
   },
   "outputs": [],
   "source": [
    "review_counter = Counter()"
   ]
  },
  {
   "cell_type": "code",
   "execution_count": null,
   "metadata": {
    "collapsed": true
   },
   "outputs": [],
   "source": [
    "for word in reviews[0].split(\" \"):\n",
    "    review_counter[word] += 1"
   ]
  },
  {
   "cell_type": "code",
   "execution_count": null,
   "metadata": {
    "collapsed": true
   },
   "outputs": [],
   "source": [
    "review_counter.most_common()"
   ]
  },
  {
   "cell_type": "markdown",
   "metadata": {},
   "source": [
    "# Project 4: Reducing Noise in Our Input Data<a id='project_4'></a>\n",
    "\n",
    "**TODO:** Attempt to reduce the noise in the input data like Andrew did in the previous video. Specifically, do the following:\n",
    "* Copy the `SentimentNetwork` class you created earlier into the following cell.\n",
    "* Modify `update_input_layer` so it does not count how many times each word is used, but rather just stores whether or not a word was used. "
   ]
  },
  {
   "cell_type": "code",
   "execution_count": null,
   "metadata": {
    "collapsed": true
   },
   "outputs": [],
   "source": [
    "# TODO: -Copy the SentimentNetwork class from Projet 3 lesson\n",
    "#       -Modify it to reduce noise, like in the video "
   ]
  },
  {
   "cell_type": "markdown",
   "metadata": {},
   "source": [
    "Run the following cell to recreate the network and train it. Notice we've gone back to the higher learning rate of `0.1`."
   ]
  },
  {
   "cell_type": "code",
   "execution_count": null,
   "metadata": {
    "collapsed": true
   },
   "outputs": [],
   "source": [
    "mlp = SentimentNetwork(reviews[:-1000],labels[:-1000], learning_rate=0.1)\n",
    "mlp.train(reviews[:-1000],labels[:-1000])"
   ]
  },
  {
   "cell_type": "markdown",
   "metadata": {},
   "source": [
    "That should have trained much better than the earlier attempts. It's still not wonderful, but it should have improved dramatically. Run the following cell to test your model with 1000 predictions."
   ]
  },
  {
   "cell_type": "code",
   "execution_count": null,
   "metadata": {
    "collapsed": true
   },
   "outputs": [],
   "source": [
    "mlp.test(reviews[-1000:],labels[-1000:])"
   ]
  },
  {
   "cell_type": "markdown",
   "metadata": {},
   "source": [
    "# End of Project 4. \n",
    "## Andrew's solution was actually in the previous video, so rewatch that video if you had any problems with that project. Then continue on to the next lesson.\n",
    "# Analyzing Inefficiencies in our Network<a id='lesson_5'></a>\n",
    "The following cells include the code Andrew shows in the next video. We've included it here so you can run the cells along with the video without having to type in everything."
   ]
  },
  {
   "cell_type": "code",
   "execution_count": null,
   "metadata": {
    "collapsed": true
   },
   "outputs": [],
   "source": [
    "Image(filename='sentiment_network_sparse.png')"
   ]
  },
  {
   "cell_type": "code",
   "execution_count": null,
   "metadata": {
    "collapsed": true
   },
   "outputs": [],
   "source": [
    "layer_0 = np.zeros(10)"
   ]
  },
  {
   "cell_type": "code",
   "execution_count": null,
   "metadata": {
    "collapsed": true
   },
   "outputs": [],
   "source": [
    "layer_0"
   ]
  },
  {
   "cell_type": "code",
   "execution_count": null,
   "metadata": {
    "collapsed": true
   },
   "outputs": [],
   "source": [
    "layer_0[4] = 1\n",
    "layer_0[9] = 1"
   ]
  },
  {
   "cell_type": "code",
   "execution_count": null,
   "metadata": {
    "collapsed": true
   },
   "outputs": [],
   "source": [
    "layer_0"
   ]
  },
  {
   "cell_type": "code",
   "execution_count": null,
   "metadata": {
    "collapsed": true
   },
   "outputs": [],
   "source": [
    "weights_0_1 = np.random.randn(10,5)"
   ]
  },
  {
   "cell_type": "code",
   "execution_count": null,
   "metadata": {
    "collapsed": true
   },
   "outputs": [],
   "source": [
    "layer_0.dot(weights_0_1)"
   ]
  },
  {
   "cell_type": "code",
   "execution_count": null,
   "metadata": {
    "collapsed": true
   },
   "outputs": [],
   "source": [
    "indices = [4,9]"
   ]
  },
  {
   "cell_type": "code",
   "execution_count": null,
   "metadata": {
    "collapsed": true
   },
   "outputs": [],
   "source": [
    "layer_1 = np.zeros(5)"
   ]
  },
  {
   "cell_type": "code",
   "execution_count": null,
   "metadata": {
    "collapsed": true
   },
   "outputs": [],
   "source": [
    "for index in indices:\n",
    "    layer_1 += (1 * weights_0_1[index])"
   ]
  },
  {
   "cell_type": "code",
   "execution_count": null,
   "metadata": {
    "collapsed": true
   },
   "outputs": [],
   "source": [
    "layer_1"
   ]
  },
  {
   "cell_type": "code",
   "execution_count": null,
   "metadata": {
    "collapsed": true
   },
   "outputs": [],
   "source": [
    "Image(filename='sentiment_network_sparse_2.png')"
   ]
  },
  {
   "cell_type": "code",
   "execution_count": null,
   "metadata": {
    "collapsed": true
   },
   "outputs": [],
   "source": [
    "layer_1 = np.zeros(5)"
   ]
  },
  {
   "cell_type": "code",
   "execution_count": null,
   "metadata": {
    "collapsed": true
   },
   "outputs": [],
   "source": [
    "for index in indices:\n",
    "    layer_1 += (weights_0_1[index])"
   ]
  },
  {
   "cell_type": "code",
   "execution_count": null,
   "metadata": {
    "collapsed": true
   },
   "outputs": [],
   "source": [
    "layer_1"
   ]
  },
  {
   "cell_type": "markdown",
   "metadata": {},
   "source": [
    "# Project 5: Making our Network More Efficient<a id='project_5'></a>\n",
    "**TODO:** Make the `SentimentNetwork` class more efficient by eliminating unnecessary multiplications and additions that occur during forward and backward propagation. To do that, you can do the following:\n",
    "* Copy the `SentimentNetwork` class from the previous project into the following cell.\n",
    "* Remove the `update_input_layer` function - you will not need it in this version.\n",
    "* Modify `init_network`:\n",
    ">* You no longer need a separate input layer, so remove any mention of `self.layer_0`\n",
    ">* You will be dealing with the old hidden layer more directly, so create `self.layer_1`, a two-dimensional matrix with shape 1 x hidden_nodes, with all values initialized to zero\n",
    "* Modify `train`:\n",
    ">* Change the name of the input parameter `training_reviews` to `training_reviews_raw`. This will help with the next step.\n",
    ">* At the beginning of the function, you'll want to preprocess your reviews to convert them to a list of indices (from `word2index`) that are actually used in the review. This is equivalent to what you saw in the video when Andrew set specific indices to 1. Your code should create a local `list` variable named `training_reviews` that should contain a `list` for each review in `training_reviews_raw`. Those lists should contain the indices for words found in the review.\n",
    ">* Remove call to `update_input_layer`\n",
    ">* Use `self`'s  `layer_1` instead of a local `layer_1` object.\n",
    ">* In the forward pass, replace the code that updates `layer_1` with new logic that only adds the weights for the indices used in the review.\n",
    ">* When updating `weights_0_1`, only update the individual weights that were used in the forward pass.\n",
    "* Modify `run`:\n",
    ">* Remove call to `update_input_layer` \n",
    ">* Use `self`'s  `layer_1` instead of a local `layer_1` object.\n",
    ">* Much like you did in `train`, you will need to pre-process the `review` so you can work with word indices, then update `layer_1` by adding weights for the indices used in the review."
   ]
  },
  {
   "cell_type": "code",
   "execution_count": null,
   "metadata": {
    "collapsed": true
   },
   "outputs": [],
   "source": [
    "# TODO: -Copy the SentimentNetwork class from Project 4 lesson\n",
    "#       -Modify it according to the above instructions "
   ]
  },
  {
   "cell_type": "markdown",
   "metadata": {},
   "source": [
    "Run the following cell to recreate the network and train it once again."
   ]
  },
  {
   "cell_type": "code",
   "execution_count": null,
   "metadata": {
    "collapsed": true
   },
   "outputs": [],
   "source": [
    "mlp = SentimentNetwork(reviews[:-1000],labels[:-1000], learning_rate=0.1)\n",
    "mlp.train(reviews[:-1000],labels[:-1000])"
   ]
  },
  {
   "cell_type": "markdown",
   "metadata": {},
   "source": [
    "That should have trained much better than the earlier attempts. Run the following cell to test your model with 1000 predictions."
   ]
  },
  {
   "cell_type": "code",
   "execution_count": null,
   "metadata": {
    "collapsed": true
   },
   "outputs": [],
   "source": [
    "mlp.test(reviews[-1000:],labels[-1000:])"
   ]
  },
  {
   "cell_type": "markdown",
   "metadata": {},
   "source": [
    "# End of Project 5. \n",
    "## Watch the next video to see Andrew's solution, then continue on to the next lesson.\n",
    "# Further Noise Reduction<a id='lesson_6'></a>"
   ]
  },
  {
   "cell_type": "code",
   "execution_count": 5,
   "metadata": {
    "collapsed": true
   },
   "outputs": [],
   "source": [
    "from collections import Counter\n",
    "import numpy as np\n",
    "from IPython.display import Image\n"
   ]
  },
  {
   "cell_type": "code",
   "execution_count": 2,
   "metadata": {
    "collapsed": true
   },
   "outputs": [],
   "source": [
    "with open('reviews.txt', 'r') as reviews_file, \\\n",
    "     open('labels.txt','r') as labels_file:\n",
    "    reviews = reviews_file.read().split('\\n')\n",
    "    labels = labels_file.read().upper().split('\\n')\n"
   ]
  },
  {
   "cell_type": "code",
   "execution_count": 3,
   "metadata": {
    "collapsed": true
   },
   "outputs": [],
   "source": [
    "from collections import Counter\n",
    "\n",
    "word_counter = Counter()\n",
    "pos_word_counter = Counter()\n",
    "neg_word_counter = Counter()\n",
    "\n",
    "for review,label in zip(reviews,labels):\n",
    "    for word in review.split(' '):\n",
    "        if label == 'POSITIVE':\n",
    "            pos_word_counter[word] += 1\n",
    "        elif label == 'NEGATIVE':\n",
    "            neg_word_counter[word] += 1\n",
    "        word_counter[word] += 1"
   ]
  },
  {
   "cell_type": "code",
   "execution_count": 5,
   "metadata": {
    "collapsed": true
   },
   "outputs": [],
   "source": []
  },
  {
   "cell_type": "code",
   "execution_count": 8,
   "metadata": {},
   "outputs": [
    {
     "ename": "TypeError",
     "evalue": "'int' object does not support item assignment",
     "output_type": "error",
     "traceback": [
      "\u001b[0;31m---------------------------------------------------------------------------\u001b[0m",
      "\u001b[0;31mTypeError\u001b[0m                                 Traceback (most recent call last)",
      "\u001b[0;32m<ipython-input-8-13719e1f2b7d>\u001b[0m in \u001b[0;36m<module>\u001b[0;34m()\u001b[0m\n\u001b[1;32m      4\u001b[0m         \u001b[0;32mif\u001b[0m \u001b[0;34m(\u001b[0m\u001b[0mword\u001b[0m \u001b[0;32min\u001b[0m \u001b[0mpos_word_counter\u001b[0m\u001b[0;34m.\u001b[0m\u001b[0mkeys\u001b[0m\u001b[0;34m(\u001b[0m\u001b[0;34m)\u001b[0m \u001b[0;32mand\u001b[0m \u001b[0mword\u001b[0m \u001b[0;32min\u001b[0m \u001b[0mneg_word_counter\u001b[0m\u001b[0;34m.\u001b[0m\u001b[0mkeys\u001b[0m\u001b[0;34m(\u001b[0m\u001b[0;34m)\u001b[0m\u001b[0;34m)\u001b[0m\u001b[0;34m:\u001b[0m\u001b[0;34m\u001b[0m\u001b[0m\n\u001b[1;32m      5\u001b[0m             \u001b[0mratio\u001b[0m \u001b[0;34m=\u001b[0m \u001b[0mpos_word_counter\u001b[0m\u001b[0;34m[\u001b[0m\u001b[0mword\u001b[0m\u001b[0;34m]\u001b[0m \u001b[0;34m/\u001b[0m \u001b[0mneg_word_counter\u001b[0m\u001b[0;34m[\u001b[0m\u001b[0mword\u001b[0m\u001b[0;34m]\u001b[0m\u001b[0;34m\u001b[0m\u001b[0m\n\u001b[0;32m----> 6\u001b[0;31m             \u001b[0mpos_neg_ratios\u001b[0m\u001b[0;34m[\u001b[0m\u001b[0mword\u001b[0m\u001b[0;34m]\u001b[0m \u001b[0;34m=\u001b[0m \u001b[0mratio\u001b[0m\u001b[0;34m\u001b[0m\u001b[0m\n\u001b[0m\u001b[1;32m      7\u001b[0m         \u001b[0;32melse\u001b[0m\u001b[0;34m:\u001b[0m \u001b[0mpos_neg_ratios\u001b[0m \u001b[0;34m=\u001b[0m \u001b[0;36m0\u001b[0m\u001b[0;34m\u001b[0m\u001b[0m\n",
      "\u001b[0;31mTypeError\u001b[0m: 'int' object does not support item assignment"
     ]
    }
   ],
   "source": [
    "pos_neg_ratios = Counter()\n",
    "for word, count in word_counter.items():\n",
    "    if count >= 100:\n",
    "        if (word in pos_word_counter.keys() and word in neg_word_counter.keys()):\n",
    "            ratio = pos_word_counter[word] / neg_word_counter[word]\n",
    "            pos_neg_ratios[word] = ratio\n",
    "        else: pos_neg_ratios = 0"
   ]
  },
  {
   "cell_type": "code",
   "execution_count": 43,
   "metadata": {},
   "outputs": [
    {
     "ename": "AttributeError",
     "evalue": "'float' object has no attribute 'most_common'",
     "output_type": "error",
     "traceback": [
      "\u001b[0;31m---------------------------------------------------------------------------\u001b[0m",
      "\u001b[0;31mAttributeError\u001b[0m                            Traceback (most recent call last)",
      "\u001b[0;32m<ipython-input-43-85e321d40637>\u001b[0m in \u001b[0;36m<module>\u001b[0;34m()\u001b[0m\n\u001b[0;32m----> 1\u001b[0;31m \u001b[0mpos_neg_ratio\u001b[0m\u001b[0;34m.\u001b[0m\u001b[0mmost_common\u001b[0m\u001b[0;34m(\u001b[0m\u001b[0;34m)\u001b[0m\u001b[0;34m\u001b[0m\u001b[0m\n\u001b[0m",
      "\u001b[0;31mAttributeError\u001b[0m: 'float' object has no attribute 'most_common'"
     ]
    }
   ],
   "source": [
    "pos_neg_ratio.most_common()"
   ]
  },
  {
   "cell_type": "code",
   "execution_count": 33,
   "metadata": {},
   "outputs": [
    {
     "data": {
      "text/plain": [
       "[('boll', -4.962844630259907),\n",
       " ('uwe', -4.6151205168412597),\n",
       " ('thunderbirds', -4.1108738641733114),\n",
       " ('beowulf', -4.0943445622221004),\n",
       " ('dahmer', -3.970291913552122),\n",
       " ('wayans', -3.912023005428146),\n",
       " ('ajay', -3.8501476017100584),\n",
       " ('grendel', -3.8501476017100584),\n",
       " ('seagal', -3.6375861597263857),\n",
       " ('awfulness', -3.6375861597263857),\n",
       " ('steaming', -3.6109179126442243),\n",
       " ('welch', -3.5835189384561099),\n",
       " ('deathstalker', -3.5263605246161616),\n",
       " ('sabretooth', -3.4011973816621555),\n",
       " ('interminable', -3.4011973816621555),\n",
       " ('forwarding', -3.3672958299864741),\n",
       " ('devgan', -3.3322045101752038),\n",
       " ('gamera', -3.3141860046725258),\n",
       " ('dreck', -3.2580965380214821),\n",
       " ('picker', -3.2580965380214821),\n",
       " ('razzie', -3.2580965380214821),\n",
       " ('varma', -3.2580965380214821),\n",
       " ('unwatchable', -3.2484346271097451),\n",
       " ('stinker', -3.1986731175506815),\n",
       " ('nada', -3.1780538303479458),\n",
       " ('kirkland', -3.1354942159291497),\n",
       " ('nostril', -3.1354942159291497),\n",
       " ('giamatti', -3.1354942159291497),\n",
       " ('savalas', -3.0910424533583156),\n",
       " ('appallingly', -3.0910424533583156),\n",
       " ('hartnett', -3.0910424533583156),\n",
       " ('demi', -3.0910424533583156),\n",
       " ('aag', -3.0910424533583156),\n",
       " ('segal', -3.068052935133617),\n",
       " ('transylvania', -3.044522437723423),\n",
       " ('pointlessly', -3.044522437723423),\n",
       " ('semblance', -3.044522437723423),\n",
       " ('serbs', -3.044522437723423),\n",
       " ('reloaded', -3.044522437723423),\n",
       " ('troll', -3.044522437723423),\n",
       " ('chvez', -2.9957322735539909),\n",
       " ('antichrist', -2.9957322735539909),\n",
       " ('ketchup', -2.9957322735539909),\n",
       " ('hacked', -2.9957322735539909),\n",
       " ('mst', -2.9444389791664407),\n",
       " ('wentworth', -2.9444389791664407),\n",
       " ('gopal', -2.9444389791664407),\n",
       " ('mumbling', -2.9444389791664407),\n",
       " ('sooooo', -2.9444389791664407),\n",
       " ('creepshow', -2.9444389791664407),\n",
       " ('wrists', -2.9444389791664407),\n",
       " ('kat', -2.9444389791664407),\n",
       " ('incoherent', -2.9292871741458382),\n",
       " ('flimsy', -2.9087208965643612),\n",
       " ('wahlberg', -2.890371757896165),\n",
       " ('uninvolving', -2.890371757896165),\n",
       " ('herbie', -2.8332133440562162),\n",
       " ('aztec', -2.8332133440562162),\n",
       " ('minion', -2.8332133440562162),\n",
       " ('arjun', -2.8332133440562162),\n",
       " ('jai', -2.8332133440562162),\n",
       " ('dribble', -2.8332133440562162),\n",
       " ('patently', -2.8332133440562162),\n",
       " ('dillinger', -2.8134107167600364),\n",
       " ('yawn', -2.8033603809065348),\n",
       " ('meth', -2.7725887222397811),\n",
       " ('droning', -2.7725887222397811),\n",
       " ('hodgepodge', -2.7725887222397811),\n",
       " ('halperin', -2.7725887222397811),\n",
       " ('herschel', -2.7725887222397811),\n",
       " ('rgv', -2.7725887222397811),\n",
       " ('revolting', -2.7725887222397811),\n",
       " ('marky', -2.7725887222397811),\n",
       " ('kgb', -2.7725887222397811),\n",
       " ('munchies', -2.7408400239252009),\n",
       " ('thinner', -2.7408400239252009),\n",
       " ('neff', -2.7080502011022101),\n",
       " ('sledge', -2.7080502011022101),\n",
       " ('fraternity', -2.7080502011022101),\n",
       " ('stefan', -2.7080502011022101),\n",
       " ('fundamentalist', -2.7080502011022101),\n",
       " ('grams', -2.7080502011022101),\n",
       " ('crossbow', -2.7080502011022101),\n",
       " ('hayek', -2.7080502011022101),\n",
       " ('carmilla', -2.7080502011022101),\n",
       " ('armand', -2.7080502011022101),\n",
       " ('raining', -2.7080502011022101),\n",
       " ('kryptonite', -2.7080502011022101),\n",
       " ('tolstoy', -2.7080502011022101),\n",
       " ('oates', -2.7080502011022101),\n",
       " ('hamiltons', -2.7080502011022101),\n",
       " ('unfunny', -2.6882475738060303),\n",
       " ('vacuous', -2.6741486494265287),\n",
       " ('scarecrows', -2.6625878270254528),\n",
       " ('juhi', -2.6390573296152589),\n",
       " ('vermont', -2.6390573296152589),\n",
       " ('booty', -2.6390573296152589),\n",
       " ('ripley', -2.6390573296152589),\n",
       " ('cortes', -2.6390573296152589),\n",
       " ('bleep', -2.6390573296152589),\n",
       " ('beaton', -2.6390573296152589),\n",
       " ('spout', -2.6390573296152589),\n",
       " ('nauseous', -2.6390573296152589),\n",
       " ('lilith', -2.6390573296152589),\n",
       " ('waste', -2.6186484579840514),\n",
       " ('ugh', -2.6026896854443837),\n",
       " ('turd', -2.6026896854443837),\n",
       " ('plods', -2.6026896854443837),\n",
       " ('paycheck', -2.5902671654458267),\n",
       " ('blah', -2.5649493574615367),\n",
       " ('btch', -2.5649493574615367),\n",
       " ('midget', -2.5649493574615367),\n",
       " ('cavemen', -2.5649493574615367),\n",
       " ('substandard', -2.5649493574615367),\n",
       " ('nasties', -2.5649493574615367),\n",
       " ('suckered', -2.5649493574615367),\n",
       " ('machina', -2.5649493574615367),\n",
       " ('traci', -2.5649493574615367),\n",
       " ('conceivable', -2.5649493574615367),\n",
       " ('brigadoon', -2.5649493574615367),\n",
       " ('daninsky', -2.5649493574615367),\n",
       " ('gershon', -2.5649493574615367),\n",
       " ('slugs', -2.5455312716044354),\n",
       " ('rancid', -2.5257286443082556),\n",
       " ('hams', -2.5257286443082556),\n",
       " ('moans', -2.4849066497880004),\n",
       " ('tyrannosaurus', -2.4849066497880004),\n",
       " ('rabies', -2.4849066497880004),\n",
       " ('snoozer', -2.4849066497880004),\n",
       " ('ghoul', -2.4849066497880004),\n",
       " ('credulity', -2.4849066497880004),\n",
       " ('unengaging', -2.4849066497880004),\n",
       " ('rubin', -2.4849066497880004),\n",
       " ('tabu', -2.4849066497880004),\n",
       " ('utility', -2.4849066497880004),\n",
       " ('myles', -2.4849066497880004),\n",
       " ('scriptwriting', -2.4849066497880004),\n",
       " ('iraqi', -2.4849066497880004),\n",
       " ('chunky', -2.4849066497880004),\n",
       " ('tediously', -2.4849066497880004),\n",
       " ('beyonce', -2.4849066497880004),\n",
       " ('fecal', -2.4849066497880004),\n",
       " ('chemicals', -2.4849066497880004),\n",
       " ('puerile', -2.4849066497880004),\n",
       " ('mcgraw', -2.4849066497880004),\n",
       " ('donate', -2.4849066497880004),\n",
       " ('eyeballs', -2.4849066497880004),\n",
       " ('mishmash', -2.4849066497880004),\n",
       " ('tripe', -2.4849066497880004),\n",
       " ('lamer', -2.4849066497880004),\n",
       " ('rewrites', -2.4849066497880004),\n",
       " ('guttenberg', -2.4849066497880004),\n",
       " ('horrid', -2.4756042571256867),\n",
       " ('wtf', -2.4680995314716192),\n",
       " ('azumi', -2.456735772821304),\n",
       " ('pointless', -2.4531579514734201),\n",
       " ('maddy', -2.4423470353692043),\n",
       " ('kari', -2.4423470353692043),\n",
       " ('ineptitude', -2.4423470353692043),\n",
       " ('tedium', -2.4277482359480516),\n",
       " ('atrocious', -2.4203681286504293),\n",
       " ('hurley', -2.3978952727983707),\n",
       " ('squandered', -2.3978952727983707),\n",
       " ('suckers', -2.3978952727983707),\n",
       " ('raider', -2.3978952727983707),\n",
       " ('devine', -2.3978952727983707),\n",
       " ('abysmally', -2.3978952727983707),\n",
       " ('wench', -2.3978952727983707),\n",
       " ('biggie', -2.3978952727983707),\n",
       " ('godawful', -2.3978952727983707),\n",
       " ('amateurishly', -2.3978952727983707),\n",
       " ('stewardesses', -2.3978952727983707),\n",
       " ('muttering', -2.3978952727983707),\n",
       " ('moonlighting', -2.3978952727983707),\n",
       " ('frosty', -2.3978952727983707),\n",
       " ('slop', -2.3978952727983707),\n",
       " ('graders', -2.3978952727983707),\n",
       " ('damme', -2.3978952727983707),\n",
       " ('blandly', -2.3978952727983707),\n",
       " ('mas', -2.3978952727983707),\n",
       " ('underage', -2.3978952727983707),\n",
       " ('risible', -2.3978952727983707),\n",
       " ('offscreen', -2.3978952727983707),\n",
       " ('ilias', -2.3978952727983707),\n",
       " ('runt', -2.3978952727983707),\n",
       " ('particles', -2.3978952727983707),\n",
       " ('ismael', -2.3978952727983707),\n",
       " ('baba', -2.3978952727983707),\n",
       " ('jargon', -2.3978952727983707),\n",
       " ('headlight', -2.3978952727983707),\n",
       " ('toolbox', -2.3978952727983707),\n",
       " ('decameron', -2.3978952727983707),\n",
       " ('yuck', -2.3978952727983707),\n",
       " ('salma', -2.3978952727983707),\n",
       " ('tylo', -2.3978952727983707),\n",
       " ('icky', -2.3978952727983707),\n",
       " ('patchy', -2.3978952727983707),\n",
       " ('notre', -2.3978952727983707),\n",
       " ('redeeming', -2.3648889763302003),\n",
       " ('prom', -2.3513752571634776),\n",
       " ('solar', -2.3513752571634776),\n",
       " ('bullshit', -2.3513752571634776),\n",
       " ('dien', -2.3513752571634776),\n",
       " ('bigelow', -2.3513752571634776),\n",
       " ('baldwin', -2.3445492920930779),\n",
       " ('drivel', -2.338303175596125),\n",
       " ('dreadfully', -2.3353749158170367),\n",
       " ('arquette', -2.3223877202902252),\n",
       " ('prosthetic', -2.3025850929940455),\n",
       " ('cady', -2.3025850929940455),\n",
       " ('roasted', -2.3025850929940455),\n",
       " ('recycling', -2.3025850929940455),\n",
       " ('donor', -2.3025850929940455),\n",
       " ('weirdos', -2.3025850929940455),\n",
       " ('bloodrayne', -2.3025850929940455),\n",
       " ('reuben', -2.3025850929940455),\n",
       " ('ga', -2.3025850929940455),\n",
       " ('monstrosity', -2.3025850929940455),\n",
       " ('sloppily', -2.3025850929940455),\n",
       " ('marlee', -2.3025850929940455),\n",
       " ('francine', -2.3025850929940455),\n",
       " ('kinski', -2.3025850929940455),\n",
       " ('transplants', -2.3025850929940455),\n",
       " ('kyser', -2.3025850929940455),\n",
       " ('kundera', -2.3025850929940455),\n",
       " ('noonan', -2.3025850929940455),\n",
       " ('imbecilic', -2.3025850929940455),\n",
       " ('dreamgirls', -2.3025850929940455),\n",
       " ('snails', -2.3025850929940455),\n",
       " ('substances', -2.3025850929940455),\n",
       " ('maddox', -2.3025850929940455),\n",
       " ('milking', -2.3025850929940455),\n",
       " ('poop', -2.3025850929940455),\n",
       " ('montford', -2.3025850929940455),\n",
       " ('inconsistency', -2.3025850929940455),\n",
       " ('barres', -2.3025850929940455),\n",
       " ('tvm', -2.3025850929940455),\n",
       " ('clunker', -2.3025850929940455),\n",
       " ('lousy', -2.3025850929940455),\n",
       " ('schwimmer', -2.3025850929940455),\n",
       " ('thinnes', -2.3025850929940455),\n",
       " ('geronimo', -2.3025850929940455),\n",
       " ('subpar', -2.3025850929940455),\n",
       " ('banality', -2.3025850929940455),\n",
       " ('bimbos', -2.3025850929940455),\n",
       " ('cannibalistic', -2.3025850929940455),\n",
       " ('duran', -2.3025850929940455),\n",
       " ('toons', -2.3025850929940455),\n",
       " ('investors', -2.3025850929940455),\n",
       " ('haiku', -2.3025850929940455),\n",
       " ('lurches', -2.3025850929940455),\n",
       " ('maclaine', -2.3025850929940455),\n",
       " ('intestines', -2.3025850929940455),\n",
       " ('unexciting', -2.3025850929940455),\n",
       " ('patched', -2.3025850929940455),\n",
       " ('worst', -2.2865847516476046),\n",
       " ('croc', -2.2772672850097559),\n",
       " ('vapid', -2.2772672850097559),\n",
       " ('turgid', -2.2686835413183641),\n",
       " ('laughable', -2.2617630984737906),\n",
       " ('cassie', -2.2512917986064953),\n",
       " ('mcclure', -2.2512917986064953),\n",
       " ('singh', -2.2512917986064953),\n",
       " ('jeep', -2.2335922215070942),\n",
       " ('awful', -2.2265521924307397),\n",
       " ('poorly', -2.2192034840549946),\n",
       " ('sponsors', -2.1972245773362196),\n",
       " ('insufferably', -2.1972245773362196),\n",
       " ('ineptly', -2.1972245773362196),\n",
       " ('offensively', -2.1972245773362196),\n",
       " ('masturbating', -2.1972245773362196),\n",
       " ('swill', -2.1972245773362196),\n",
       " ('lowery', -2.1972245773362196),\n",
       " ('bah', -2.1972245773362196),\n",
       " ('atlantian', -2.1972245773362196),\n",
       " ('weston', -2.1972245773362196),\n",
       " ('asses', -2.1972245773362196),\n",
       " ('sy', -2.1972245773362196),\n",
       " ('pointy', -2.1972245773362196),\n",
       " ('malcom', -2.1972245773362196),\n",
       " ('sickest', -2.1972245773362196),\n",
       " ('beginners', -2.1972245773362196),\n",
       " ('effie', -2.1972245773362196),\n",
       " ('sleepwalking', -2.1972245773362196),\n",
       " ('measly', -2.1972245773362196),\n",
       " ('fanboy', -2.1972245773362196),\n",
       " ('daggers', -2.1972245773362196),\n",
       " ('unimaginative', -2.1972245773362196),\n",
       " ('exorcism', -2.1972245773362196),\n",
       " ('pandey', -2.1972245773362196),\n",
       " ('huggins', -2.1972245773362196),\n",
       " ('koyaanisqatsi', -2.1972245773362196),\n",
       " ('dominatrix', -2.1972245773362196),\n",
       " ('pong', -2.1972245773362196),\n",
       " ('zion', -2.1972245773362196),\n",
       " ('flo', -2.1972245773362196),\n",
       " ('feces', -2.1972245773362196),\n",
       " ('lever', -2.1972245773362196),\n",
       " ('hornblower', -2.1972245773362196),\n",
       " ('stupider', -2.1972245773362196),\n",
       " ('gymnastics', -2.1972245773362196),\n",
       " ('offed', -2.1972245773362196),\n",
       " ('kite', -2.1972245773362196),\n",
       " ('pinter', -2.1972245773362196),\n",
       " ('mercifully', -2.1972245773362196),\n",
       " ('unneeded', -2.1972245773362196),\n",
       " ('flatter', -2.1972245773362196),\n",
       " ('lamest', -2.1972245773362196),\n",
       " ('stunk', -2.1972245773362196),\n",
       " ('setups', -2.1972245773362196),\n",
       " ('threadbare', -2.1972245773362196),\n",
       " ('abject', -2.1972245773362196),\n",
       " ('greenlight', -2.1972245773362196),\n",
       " ('addy', -2.1972245773362196),\n",
       " ('jigsaw', -2.1972245773362196),\n",
       " ('greendale', -2.1972245773362196),\n",
       " ('cringeworthy', -2.1972245773362196),\n",
       " ('wasting', -2.1972245773362196),\n",
       " ('satanists', -2.1972245773362196),\n",
       " ('remotely', -2.1913594578838214),\n",
       " ('fiasco', -2.1690537003695232),\n",
       " ('durante', -2.1594842493533721),\n",
       " ('stupidly', -2.1594842493533721),\n",
       " ('malta', -2.1594842493533721),\n",
       " ('camcorder', -2.1484344131667874),\n",
       " ('houseman', -2.1400661634962708),\n",
       " ('gigli', -2.1400661634962708),\n",
       " ('merk', -2.1400661634962708),\n",
       " ('excruciatingly', -2.1400661634962708),\n",
       " ('syrup', -2.1400661634962708),\n",
       " ('stahl', -2.1400661634962708),\n",
       " ('mcdowell', -2.1400661634962708),\n",
       " ('pyun', -2.1400661634962708),\n",
       " ('nope', -2.1316272948504063),\n",
       " ('stereotyped', -2.1282317058492679),\n",
       " ('greenaway', -2.1102132003465894),\n",
       " ('unoriginal', -2.1068405158679502),\n",
       " ('monotonous', -2.1041341542702074),\n",
       " ('unnatural', -2.1041341542702074),\n",
       " ('sholay', -2.1041341542702074),\n",
       " ('chiba', -2.1000608288825715),\n",
       " ('radicals', -2.0794415416798357),\n",
       " ('glacial', -2.0794415416798357),\n",
       " ('degrade', -2.0794415416798357),\n",
       " ('tomas', -2.0794415416798357),\n",
       " ('deveraux', -2.0794415416798357),\n",
       " ('straining', -2.0794415416798357),\n",
       " ('uglier', -2.0794415416798357),\n",
       " ('chazz', -2.0794415416798357),\n",
       " ('beverages', -2.0794415416798357),\n",
       " ('mullet', -2.0794415416798357),\n",
       " ('geez', -2.0794415416798357),\n",
       " ('bystanders', -2.0794415416798357),\n",
       " ('honda', -2.0794415416798357),\n",
       " ('surmise', -2.0794415416798357),\n",
       " ('henriksen', -2.0794415416798357),\n",
       " ('friedkin', -2.0794415416798357),\n",
       " ('foam', -2.0794415416798357),\n",
       " ('slashed', -2.0794415416798357),\n",
       " ('chewed', -2.0794415416798357),\n",
       " ('expend', -2.0794415416798357),\n",
       " ('walmart', -2.0794415416798357),\n",
       " ('daniella', -2.0794415416798357),\n",
       " ('wenders', -2.0794415416798357),\n",
       " ('pasolini', -2.0794415416798357),\n",
       " ('saddening', -2.0794415416798357),\n",
       " ('modelling', -2.0794415416798357),\n",
       " ('hombre', -2.0794415416798357),\n",
       " ('shambling', -2.0794415416798357),\n",
       " ('presenters', -2.0794415416798357),\n",
       " ('kindergarten', -2.0794415416798357),\n",
       " ('oy', -2.0794415416798357),\n",
       " ('sadists', -2.0794415416798357),\n",
       " ('subjecting', -2.0794415416798357),\n",
       " ('insurgents', -2.0794415416798357),\n",
       " ('minors', -2.0794415416798357),\n",
       " ('chintzy', -2.0794415416798357),\n",
       " ('biscuit', -2.0794415416798357),\n",
       " ('overacted', -2.0794415416798357),\n",
       " ('tori', -2.0794415416798357),\n",
       " ('brats', -2.0794415416798357),\n",
       " ('leah', -2.0794415416798357),\n",
       " ('hemingway', -2.0794415416798357),\n",
       " ('lenz', -2.0794415416798357),\n",
       " ('twaddle', -2.0794415416798357),\n",
       " ('bana', -2.0794415416798357),\n",
       " ('coca', -2.0794415416798357),\n",
       " ('blender', -2.0794415416798357),\n",
       " ('lumpy', -2.0794415416798357),\n",
       " ('yer', -2.0794415416798357),\n",
       " ('eurovision', -2.0794415416798357),\n",
       " ('hunchback', -2.0794415416798357),\n",
       " ('shearer', -2.0794415416798357),\n",
       " ('drapes', -2.0794415416798357),\n",
       " ('merchandising', -2.0794415416798357),\n",
       " ('moby', -2.0794415416798357),\n",
       " ('taiwan', -2.0794415416798357),\n",
       " ('lamely', -2.0794415416798357),\n",
       " ('crp', -2.0794415416798357),\n",
       " ('claptrap', -2.0794415416798357),\n",
       " ('blandness', -2.0794415416798357),\n",
       " ('anesthesia', -2.0794415416798357),\n",
       " ('scriptures', -2.0794415416798357),\n",
       " ('uncritical', -2.0794415416798357),\n",
       " ('forster', -2.0794415416798357),\n",
       " ('basanti', -2.0794415416798357),\n",
       " ('azteca', -2.0794415416798357),\n",
       " ('intolerable', -2.0794415416798357),\n",
       " ('candlelight', -2.0794415416798357),\n",
       " ('wargames', -2.0794415416798357),\n",
       " ('captions', -2.0794415416798357),\n",
       " ('copycat', -2.0794415416798357),\n",
       " ('bey', -2.0794415416798357),\n",
       " ('crud', -2.0794415416798357),\n",
       " ('wallpaper', -2.0794415416798357),\n",
       " ('gromit', -2.0794415416798357),\n",
       " ('registers', -2.0794415416798357),\n",
       " ('aluminum', -2.0794415416798357),\n",
       " ('volleyball', -2.0794415416798357),\n",
       " ('wreaking', -2.0794415416798357),\n",
       " ('existent', -2.0724728723637424),\n",
       " ('insipid', -2.0636931847116968),\n",
       " ('unlikeable', -2.0614230361771577),\n",
       " ('morgana', -2.0476928433652555),\n",
       " ('embarrassment', -2.044755983691946),\n",
       " ('nasa', -2.0368819272610401),\n",
       " ('embarrassingly', -2.0368819272610401),\n",
       " ('chimp', -2.0368819272610401),\n",
       " ('ariel', -2.0314323224934752),\n",
       " ('rangers', -2.0281482472922856),\n",
       " ('crocodile', -2.0209453349982271),\n",
       " ('erm', -2.0149030205422647),\n",
       " ('incongruous', -2.0149030205422647),\n",
       " ('cows', -2.0149030205422647),\n",
       " ('mutated', -2.0149030205422647),\n",
       " ('engle', -2.0149030205422647),\n",
       " ('forwarded', -2.0149030205422647),\n",
       " ('omen', -2.0149030205422647),\n",
       " ('postal', -2.0149030205422647),\n",
       " ('bitterly', -2.0149030205422647),\n",
       " ('zadora', -2.0149030205422647),\n",
       " ('corleone', -2.0149030205422647),\n",
       " ('leila', -2.0149030205422647),\n",
       " ('vidal', -2.0149030205422647),\n",
       " ('cannibal', -2.0014800002101238),\n",
       " ('abomination', -2.0014800002101238),\n",
       " ('lundgren', -1.9965538818740682),\n",
       " ('ineffective', -1.9924301646902063),\n",
       " ('haphazard', -1.9924301646902063),\n",
       " ('kattan', -1.9924301646902063),\n",
       " ('moses', -1.9924301646902063),\n",
       " ('stink', -1.9924301646902063),\n",
       " ('breckinridge', -1.9924301646902063),\n",
       " ('knoxville', -1.9924301646902063),\n",
       " ('boredom', -1.9870682215488209),\n",
       " ('miserably', -1.9832976811269336),\n",
       " ('sucks', -1.9830278120118159),\n",
       " ('wolverine', -1.9810014688665833),\n",
       " ('lame', -1.9802348915963879),\n",
       " ('uninspired', -1.9740810260220096),\n",
       " ('frat', -1.9740810260220096),\n",
       " ('insult', -1.9730120788331045),\n",
       " ('abysmal', -1.9694406464655074),\n",
       " ('quantum', -1.9661128563728327),\n",
       " ('filmdom', -1.9459101490553135),\n",
       " ('headlights', -1.9459101490553135),\n",
       " ('lovelace', -1.9459101490553135),\n",
       " ('playstation', -1.9459101490553135),\n",
       " ('ak', -1.9459101490553135),\n",
       " ('morphin', -1.9459101490553135),\n",
       " ('pavlov', -1.9459101490553135),\n",
       " ('umpteenth', -1.9459101490553135),\n",
       " ('chuckled', -1.9459101490553135),\n",
       " ('cereal', -1.9459101490553135),\n",
       " ('glazed', -1.9459101490553135),\n",
       " ('upstaged', -1.9459101490553135),\n",
       " ('reindeer', -1.9459101490553135),\n",
       " ('obscenity', -1.9459101490553135),\n",
       " ('foreseeable', -1.9459101490553135),\n",
       " ('flannery', -1.9459101490553135),\n",
       " ('rapp', -1.9459101490553135),\n",
       " ('lohan', -1.9459101490553135),\n",
       " ('shoddiness', -1.9459101490553135),\n",
       " ('hormone', -1.9459101490553135),\n",
       " ('luana', -1.9459101490553135),\n",
       " ('titillation', -1.9459101490553135),\n",
       " ('conceiving', -1.9459101490553135),\n",
       " ('losey', -1.9459101490553135),\n",
       " ('blouse', -1.9459101490553135),\n",
       " ('fairchild', -1.9459101490553135),\n",
       " ('swore', -1.9459101490553135),\n",
       " ('sewers', -1.9459101490553135),\n",
       " ('persian', -1.9459101490553135),\n",
       " ('tvs', -1.9459101490553135),\n",
       " ('thicker', -1.9459101490553135),\n",
       " ('tracker', -1.9459101490553135),\n",
       " ('woolsey', -1.9459101490553135),\n",
       " ('bowen', -1.9459101490553135),\n",
       " ('amounted', -1.9459101490553135),\n",
       " ('legit', -1.9459101490553135),\n",
       " ('hoops', -1.9459101490553135),\n",
       " ('boeing', -1.9459101490553135),\n",
       " ('religions', -1.9459101490553135),\n",
       " ('donuts', -1.9459101490553135),\n",
       " ('crock', -1.9459101490553135),\n",
       " ('demean', -1.9459101490553135),\n",
       " ('antarctica', -1.9459101490553135),\n",
       " ('freshmen', -1.9459101490553135),\n",
       " ('looped', -1.9459101490553135),\n",
       " ('sheik', -1.9459101490553135),\n",
       " ('sewage', -1.9459101490553135),\n",
       " ('sarkar', -1.9459101490553135),\n",
       " ('suspending', -1.9459101490553135),\n",
       " ('unendurable', -1.9459101490553135),\n",
       " ('waisted', -1.9459101490553135),\n",
       " ('knockoff', -1.9459101490553135),\n",
       " ('corbet', -1.9459101490553135),\n",
       " ('spurting', -1.9459101490553135),\n",
       " ('grossness', -1.9459101490553135),\n",
       " ('afoot', -1.9459101490553135),\n",
       " ('turds', -1.9459101490553135),\n",
       " ('ops', -1.9459101490553135),\n",
       " ('odin', -1.9459101490553135),\n",
       " ('bloodsucker', -1.9459101490553135),\n",
       " ('childbirth', -1.9459101490553135),\n",
       " ('roped', -1.9459101490553135),\n",
       " ('pouty', -1.9459101490553135),\n",
       " ('firearms', -1.9459101490553135),\n",
       " ('borat', -1.9459101490553135),\n",
       " ('visayan', -1.9459101490553135),\n",
       " ('psychos', -1.9459101490553135),\n",
       " ('houseboat', -1.9459101490553135),\n",
       " ('golly', -1.9459101490553135),\n",
       " ('casing', -1.9459101490553135),\n",
       " ('gospels', -1.9459101490553135),\n",
       " ('matlin', -1.9459101490553135),\n",
       " ('drones', -1.9459101490553135),\n",
       " ('stinking', -1.9459101490553135),\n",
       " ('cipher', -1.9459101490553135),\n",
       " ('puffy', -1.9459101490553135),\n",
       " ('fro', -1.9459101490553135),\n",
       " ('misdirection', -1.9459101490553135),\n",
       " ('napolean', -1.9459101490553135),\n",
       " ('strayed', -1.9459101490553135),\n",
       " ('meanders', -1.9459101490553135),\n",
       " ('kershaw', -1.9459101490553135),\n",
       " ('jog', -1.9459101490553135),\n",
       " ('croatian', -1.9459101490553135),\n",
       " ('obligated', -1.9459101490553135),\n",
       " ('punchlines', -1.9459101490553135),\n",
       " ('partake', -1.9459101490553135),\n",
       " ('automotive', -1.9459101490553135),\n",
       " ('ia', -1.9459101490553135),\n",
       " ('sas', -1.9459101490553135),\n",
       " ('shlock', -1.9459101490553135),\n",
       " ('yawning', -1.9459101490553135),\n",
       " ('flabby', -1.9459101490553135),\n",
       " ('janssen', -1.9459101490553135),\n",
       " ('lmn', -1.9459101490553135),\n",
       " ('godzilla', -1.9459101490553135),\n",
       " ('leers', -1.9459101490553135),\n",
       " ('swallows', -1.9459101490553135),\n",
       " ('astin', -1.9459101490553135),\n",
       " ('outerspace', -1.9459101490553135),\n",
       " ('lib', -1.9459101490553135),\n",
       " ('howler', -1.9459101490553135),\n",
       " ('ci', -1.9459101490553135),\n",
       " ('filed', -1.9459101490553135),\n",
       " ('mariel', -1.9459101490553135),\n",
       " ('seniors', -1.9459101490553135),\n",
       " ('greydon', -1.9459101490553135),\n",
       " ('leatherface', -1.9459101490553135),\n",
       " ('gormless', -1.9459101490553135),\n",
       " ('confirming', -1.9459101490553135),\n",
       " ('spader', -1.9459101490553135),\n",
       " ('scowl', -1.9459101490553135),\n",
       " ('nr', -1.9459101490553135),\n",
       " ('grubby', -1.9459101490553135),\n",
       " ('silvers', -1.9459101490553135),\n",
       " ('saban', -1.9459101490553135),\n",
       " ('rican', -1.9459101490553135),\n",
       " ('draggy', -1.9459101490553135),\n",
       " ('mathematics', -1.9459101490553135),\n",
       " ('generously', -1.9459101490553135),\n",
       " ('uninteresting', -1.9401794743463283),\n",
       " ('inane', -1.9339339580085977),\n",
       " ('incompetent', -1.9328380674879604),\n",
       " ('snakes', -1.9299098077088721),\n",
       " ('dumber', -1.9252908618525775),\n",
       " ('gadget', -1.9252908618525775),\n",
       " ('tooth', -1.9195928407379399),\n",
       " ('appalling', -1.9187591599893623),\n",
       " ('bigfoot', -1.9169226121820611),\n",
       " ('talentless', -1.9095425048844386),\n",
       " ('unconvincing', -1.9095425048844386),\n",
       " ('horrible', -1.9093035277056216),\n",
       " ('unintentional', -1.9042374526547454),\n",
       " ('amateurish', -1.9042374526547454),\n",
       " ('hooper', -1.9042374526547454),\n",
       " ('pathetic', -1.8979393212692839),\n",
       " ('incubus', -1.8971199848858813),\n",
       " ('agreeing', -1.8971199848858813),\n",
       " ('sands', -1.8971199848858813),\n",
       " ('haircut', -1.8971199848858813),\n",
       " ('mcgovern', -1.8971199848858813),\n",
       " ('android', -1.8971199848858813),\n",
       " ('campfire', -1.8971199848858813),\n",
       " ('wrinkle', -1.8971199848858813),\n",
       " ('idiotic', -1.8918429277850375),\n",
       " ('mutants', -1.8870696490323797),\n",
       " ('sorvino', -1.8870696490323797),\n",
       " ('zeta', -1.8870696490323797),\n",
       " ('timberlake', -1.8803128665694999),\n",
       " ('porno', -1.8777018990287797),\n",
       " ('stupidity', -1.8754584881047018),\n",
       " ('lv', -1.8718021769015913),\n",
       " ('sirens', -1.8718021769015913),\n",
       " ('kristel', -1.8718021769015913),\n",
       " ('erotica', -1.8718021769015913),\n",
       " ('firode', -1.8718021769015913),\n",
       " ('eliza', -1.8718021769015913),\n",
       " ('stinkers', -1.8718021769015913),\n",
       " ('mirren', -1.8718021769015913),\n",
       " ('duncan', -1.8718021769015913),\n",
       " ('bjork', -1.8718021769015913),\n",
       " ('prophecies', -1.8718021769015913),\n",
       " ('ski', -1.8718021769015913),\n",
       " ('covert', -1.8718021769015913),\n",
       " ('inert', -1.8718021769015913),\n",
       " ('voodoo', -1.8718021769015913),\n",
       " ('descending', -1.8718021769015913),\n",
       " ('dispatched', -1.8718021769015913),\n",
       " ('evan', -1.8718021769015913),\n",
       " ('unprofessional', -1.8718021769015913),\n",
       " ('dial', -1.8718021769015913),\n",
       " ('ellis', -1.8718021769015913),\n",
       " ('completist', -1.8718021769015913),\n",
       " ('placid', -1.8718021769015913),\n",
       " ('audible', -1.8718021769015913),\n",
       " ('pancake', -1.8718021769015913),\n",
       " ('lukewarm', -1.8718021769015913),\n",
       " ('dumbest', -1.8607523407150064),\n",
       " ('disgraceful', -1.8458266904983309),\n",
       " ('lethargic', -1.8458266904983309),\n",
       " ('threesome', -1.8458266904983309),\n",
       " ('saddled', -1.8458266904983309),\n",
       " ('salvage', -1.8458266904983309),\n",
       " ('rot', -1.8458266904983309),\n",
       " ('snipes', -1.8382794848629478),\n",
       " ('cardboard', -1.8370160608161759),\n",
       " ('wasted', -1.836211231798889),\n",
       " ('werewolves', -1.8325814637483102),\n",
       " ('untalented', -1.8325814637483102),\n",
       " ('ethel', -1.8325814637483102),\n",
       " ('distasteful', -1.8325814637483102),\n",
       " ('carlito', -1.8281271133989299),\n",
       " ('crap', -1.8270104186988547),\n",
       " ('lommel', -1.824549292051046),\n",
       " ('wretched', -1.8216124323777361),\n",
       " ('whiny', -1.8123787564307907),\n",
       " ('insulting', -1.8101086078962516),\n",
       " ('tedious', -1.7971214123694403),\n",
       " ('twit', -1.791759469228055),\n",
       " ('irwin', -1.791759469228055),\n",
       " ('obliterated', -1.791759469228055),\n",
       " ('clap', -1.791759469228055),\n",
       " ('lochlyn', -1.791759469228055),\n",
       " ('polluting', -1.791759469228055),\n",
       " ('fluorescent', -1.791759469228055),\n",
       " ('whiner', -1.791759469228055),\n",
       " ('allergic', -1.791759469228055),\n",
       " ('gratuitously', -1.791759469228055),\n",
       " ('gish', -1.791759469228055),\n",
       " ('bummer', -1.791759469228055),\n",
       " ('wasteful', -1.791759469228055),\n",
       " ('escorts', -1.791759469228055),\n",
       " ('fends', -1.791759469228055),\n",
       " ('mummies', -1.791759469228055),\n",
       " ('lonnie', -1.791759469228055),\n",
       " ('snoring', -1.791759469228055),\n",
       " ('nomads', -1.791759469228055),\n",
       " ('boycott', -1.791759469228055),\n",
       " ('combustion', -1.791759469228055),\n",
       " ('lazily', -1.791759469228055),\n",
       " ('jin', -1.791759469228055),\n",
       " ('guillotines', -1.791759469228055),\n",
       " ('gis', -1.791759469228055),\n",
       " ('groans', -1.791759469228055),\n",
       " ('redefines', -1.791759469228055),\n",
       " ('reeking', -1.791759469228055),\n",
       " ('wrathful', -1.791759469228055),\n",
       " ('peed', -1.791759469228055),\n",
       " ('unerotic', -1.791759469228055),\n",
       " ('robbin', -1.791759469228055),\n",
       " ('benward', -1.791759469228055),\n",
       " ('oven', -1.791759469228055),\n",
       " ('excerpt', -1.791759469228055),\n",
       " ('chapel', -1.791759469228055),\n",
       " ('dukes', -1.791759469228055),\n",
       " ('flushing', -1.791759469228055),\n",
       " ('uncool', -1.791759469228055),\n",
       " ('yawns', -1.791759469228055),\n",
       " ('fosse', -1.791759469228055),\n",
       " ('cv', -1.791759469228055),\n",
       " ('airlift', -1.791759469228055),\n",
       " ('gunned', -1.791759469228055),\n",
       " ('requiem', -1.791759469228055),\n",
       " ('pierced', -1.791759469228055),\n",
       " ('santoshi', -1.791759469228055),\n",
       " ('banning', -1.791759469228055),\n",
       " ('moth', -1.791759469228055),\n",
       " ('umpteen', -1.791759469228055),\n",
       " ('sandman', -1.791759469228055),\n",
       " ('helsing', -1.791759469228055),\n",
       " ('darts', -1.791759469228055),\n",
       " ('telegraph', -1.791759469228055),\n",
       " ('inception', -1.791759469228055),\n",
       " ('bowing', -1.791759469228055),\n",
       " ('jamming', -1.791759469228055),\n",
       " ('oldman', -1.791759469228055),\n",
       " ('nino', -1.791759469228055),\n",
       " ('ands', -1.791759469228055),\n",
       " ('lagging', -1.791759469228055),\n",
       " ('trudge', -1.791759469228055),\n",
       " ('scammed', -1.791759469228055),\n",
       " ('syllable', -1.791759469228055),\n",
       " ('tanked', -1.791759469228055),\n",
       " ('unredeemable', -1.791759469228055),\n",
       " ('emote', -1.791759469228055),\n",
       " ('retards', -1.791759469228055),\n",
       " ('paedophilia', -1.791759469228055),\n",
       " ('kasem', -1.791759469228055),\n",
       " ('bleach', -1.791759469228055),\n",
       " ('soloist', -1.791759469228055),\n",
       " ('leprechaun', -1.791759469228055),\n",
       " ('saturn', -1.791759469228055),\n",
       " ('palminteri', -1.791759469228055),\n",
       " ('xavier', -1.791759469228055),\n",
       " ('cluster', -1.791759469228055),\n",
       " ('bowman', -1.791759469228055),\n",
       " ('lazerov', -1.791759469228055),\n",
       " ('witchery', -1.791759469228055),\n",
       " ('kojak', -1.791759469228055),\n",
       " ('pac', -1.791759469228055),\n",
       " ('implausibilities', -1.791759469228055),\n",
       " ('stroking', -1.791759469228055),\n",
       " ('charger', -1.791759469228055),\n",
       " ('bleed', -1.791759469228055),\n",
       " ('skate', -1.791759469228055),\n",
       " ('diabolically', -1.791759469228055),\n",
       " ('pitifully', -1.791759469228055),\n",
       " ('enrich', -1.791759469228055),\n",
       " ('alarms', -1.791759469228055),\n",
       " ('germ', -1.791759469228055),\n",
       " ('dots', -1.791759469228055),\n",
       " ('georgie', -1.791759469228055),\n",
       " ('deficit', -1.791759469228055),\n",
       " ('cheesier', -1.791759469228055),\n",
       " ('wim', -1.791759469228055),\n",
       " ('jeez', -1.791759469228055),\n",
       " ('hydrogen', -1.791759469228055),\n",
       " ('tmnt', -1.791759469228055),\n",
       " ('parson', -1.791759469228055),\n",
       " ('amulet', -1.791759469228055),\n",
       " ('existant', -1.791759469228055),\n",
       " ('jurgen', -1.791759469228055),\n",
       " ('ignite', -1.791759469228055),\n",
       " ('howlers', -1.791759469228055),\n",
       " ('woeful', -1.791759469228055),\n",
       " ('slowest', -1.791759469228055),\n",
       " ('unrealistically', -1.791759469228055),\n",
       " ('ludicrously', -1.791759469228055),\n",
       " ('dorn', -1.791759469228055),\n",
       " ('angelica', -1.791759469228055),\n",
       " ('petra', -1.791759469228055),\n",
       " ('faction', -1.791759469228055),\n",
       " ('needham', -1.791759469228055),\n",
       " ('jokers', -1.791759469228055),\n",
       " ('shaka', -1.791759469228055),\n",
       " ('bees', -1.791759469228055),\n",
       " ('indirect', -1.791759469228055),\n",
       " ('annabel', -1.791759469228055),\n",
       " ('shapeless', -1.791759469228055),\n",
       " ('incredulity', -1.791759469228055),\n",
       " ('braindead', -1.791759469228055),\n",
       " ('violins', -1.791759469228055),\n",
       " ('myra', -1.791759469228055),\n",
       " ('filipino', -1.791759469228055),\n",
       " ('devouring', -1.791759469228055),\n",
       " ('fundamentals', -1.791759469228055),\n",
       " ('silas', -1.791759469228055),\n",
       " ('parading', -1.791759469228055),\n",
       " ('kwouk', -1.791759469228055),\n",
       " ('springfield', -1.791759469228055),\n",
       " ('insidious', -1.791759469228055),\n",
       " ('cumulative', -1.791759469228055),\n",
       " ('ridicules', -1.791759469228055),\n",
       " ('lunar', -1.791759469228055),\n",
       " ('channing', -1.791759469228055),\n",
       " ('hedge', -1.791759469228055),\n",
       " ('pasted', -1.791759469228055),\n",
       " ('squat', -1.791759469228055),\n",
       " ('nekkid', -1.791759469228055),\n",
       " ('roadside', -1.791759469228055),\n",
       " ('dougray', -1.791759469228055),\n",
       " ('fartsy', -1.791759469228055),\n",
       " ('desperado', -1.791759469228055),\n",
       " ('proposing', -1.791759469228055),\n",
       " ('semen', -1.791759469228055),\n",
       " ('chime', -1.791759469228055),\n",
       " ('nel', -1.791759469228055),\n",
       " ('greystoke', -1.791759469228055),\n",
       " ('misdirected', -1.791759469228055),\n",
       " ('tequila', -1.791759469228055),\n",
       " ('chandra', -1.791759469228055),\n",
       " ('rows', -1.791759469228055),\n",
       " ('poehler', -1.791759469228055),\n",
       " ('nakedness', -1.791759469228055),\n",
       " ('posses', -1.791759469228055),\n",
       " ('starlift', -1.791759469228055),\n",
       " ('ravens', -1.791759469228055),\n",
       " ('groaned', -1.791759469228055),\n",
       " ('toothbrush', -1.791759469228055),\n",
       " ('droned', -1.791759469228055),\n",
       " ('rake', -1.791759469228055),\n",
       " ('fletcher', -1.791759469228055),\n",
       " ('recklessness', -1.791759469228055),\n",
       " ('gamer', -1.791759469228055),\n",
       " ('navel', -1.791759469228055),\n",
       " ('trumpets', -1.791759469228055),\n",
       " ('folded', -1.791759469228055),\n",
       " ('idiotically', -1.791759469228055),\n",
       " ('petto', -1.791759469228055),\n",
       " ('moonshine', -1.791759469228055),\n",
       " ('clawing', -1.791759469228055),\n",
       " ('grinder', -1.791759469228055),\n",
       " ('quickie', -1.791759469228055),\n",
       " ('degrades', -1.791759469228055),\n",
       " ('licence', -1.791759469228055),\n",
       " ('janis', -1.791759469228055),\n",
       " ('pasta', -1.791759469228055),\n",
       " ('mange', -1.791759469228055),\n",
       " ('badness', -1.791759469228055),\n",
       " ('mcandrew', -1.791759469228055),\n",
       " ('disadvantage', -1.791759469228055),\n",
       " ('hatchet', -1.791759469228055),\n",
       " ('stared', -1.791759469228055),\n",
       " ('egyptologist', -1.791759469228055),\n",
       " ('orangutan', -1.791759469228055),\n",
       " ('peta', -1.791759469228055),\n",
       " ('sperm', -1.791759469228055),\n",
       " ('baseless', -1.791759469228055),\n",
       " ('seagals', -1.791759469228055),\n",
       " ('mop', -1.791759469228055),\n",
       " ('hitlers', -1.791759469228055),\n",
       " ('blech', -1.791759469228055),\n",
       " ('perched', -1.791759469228055),\n",
       " ('negates', -1.791759469228055),\n",
       " ('moronic', -1.7777732272533151),\n",
       " ('hackman', -1.7730673362159024),\n",
       " ('dreadful', -1.7676619176489945),\n",
       " ('rodney', -1.7635885922613588),\n",
       " ('alligator', -1.7578579175523736),\n",
       " ('stupidest', -1.7578579175523736),\n",
       " ('benson', -1.7578579175523736),\n",
       " ('cheaper', -1.7578579175523736),\n",
       " ('dire', -1.754019141245208),\n",
       " ('badly', -1.751858252475869),\n",
       " ('shambles', -1.7491998548092591),\n",
       " ('telegraphed', -1.7491998548092591),\n",
       " ('mish', -1.7491998548092591),\n",
       " ('disconnected', -1.7491998548092591),\n",
       " ('madsen', -1.7491998548092591),\n",
       " ('trinity', -1.7491998548092591),\n",
       " ('cringed', -1.7491998548092591),\n",
       " ('suck', -1.7458497679239771),\n",
       " ('nauseating', -1.742969305058623),\n",
       " ('worse', -1.7364709637732161),\n",
       " ('heather', -1.7346010553881064),\n",
       " ('nap', -1.7346010553881064),\n",
       " ('chimps', -1.7346010553881064),\n",
       " ('insensitive', -1.7346010553881064),\n",
       " ('skulls', -1.7346010553881064),\n",
       " ('nadir', -1.7346010553881064),\n",
       " ('grier', -1.7346010553881064),\n",
       " ('twitch', -1.7346010553881064),\n",
       " ('impaled', -1.7346010553881064),\n",
       " ('rapper', -1.7346010553881064),\n",
       " ('anil', -1.7346010553881064),\n",
       " ('cheesiest', -1.7346010553881064),\n",
       " ('terrible', -1.7283898552954657),\n",
       " ('dung', -1.7227665977411035),\n",
       " ('witless', -1.7227665977411035),\n",
       " ('kerr', -1.7227665977411035),\n",
       " ('unappealing', -1.7176514970743331),\n",
       " ('obnoxiously', -1.7047480922384253),\n",
       " ('excruciating', -1.7047480922384253),\n",
       " ('yash', -1.7047480922384253),\n",
       " ('mannequin', -1.7047480922384253),\n",
       " ('perez', -1.7047480922384253),\n",
       " ('battery', -1.7047480922384253),\n",
       " ('jets', -1.7047480922384253),\n",
       " ('buggy', -1.7047480922384253),\n",
       " ('meters', -1.7047480922384253),\n",
       " ('beals', -1.7047480922384253),\n",
       " ('expressionless', -1.7047480922384253),\n",
       " ('torches', -1.7047480922384253),\n",
       " ('humourless', -1.7047480922384253),\n",
       " ('hurl', -1.7047480922384253),\n",
       " ('wuss', -1.7047480922384253),\n",
       " ('snack', -1.7047480922384253),\n",
       " ('lifeless', -1.7047480922384253),\n",
       " ('reptile', -1.7047480922384253),\n",
       " ('ahab', -1.7047480922384253),\n",
       " ('countdown', -1.7047480922384253),\n",
       " ('mangled', -1.7047480922384253),\n",
       " ('unmemorable', -1.7047480922384253),\n",
       " ('boringly', -1.7047480922384253),\n",
       " ('myron', -1.7047480922384253),\n",
       " ('phoning', -1.7047480922384253),\n",
       " ('gasoline', -1.7047480922384253),\n",
       " ('drawl', -1.7047480922384253),\n",
       " ('coherency', -1.7047480922384253),\n",
       " ('platitudes', -1.7047480922384253),\n",
       " ('whopping', -1.7047480922384253),\n",
       " ('mazes', -1.7047480922384253),\n",
       " ('unfilmable', -1.7047480922384253),\n",
       " ('reggie', -1.7047480922384253),\n",
       " ('brakes', -1.7047480922384253),\n",
       " ('embarrassing', -1.6969253665572162),\n",
       " ('mess', -1.6882490928583902),\n",
       " ('unimpressive', -1.6863989535702288),\n",
       " ('misfire', -1.6863989535702288),\n",
       " ('holden', -1.6863989535702288),\n",
       " ('masturbation', -1.6863989535702288),\n",
       " ('garbage', -1.6843392206072181),\n",
       " ('hostel', -1.6817585740137264),\n",
       " ('funding', -1.6817585740137264),\n",
       " ('tomb', -1.6817585740137264),\n",
       " ('naschy', -1.6796421711073488),\n",
       " ('brittany', -1.6739764335716716),\n",
       " ('bots', -1.6739764335716716),\n",
       " ('boorish', -1.6739764335716716),\n",
       " ('conspiracies', -1.6739764335716716),\n",
       " ('liven', -1.6739764335716716),\n",
       " ('dhoom', -1.6739764335716716),\n",
       " ('kitamura', -1.6739764335716716),\n",
       " ('pitiful', -1.6739764335716716),\n",
       " ('tobacco', -1.6739764335716716),\n",
       " ('bratty', -1.6739764335716716),\n",
       " ('dangling', -1.6739764335716716),\n",
       " ('uninspiring', -1.6739764335716716),\n",
       " ('unmotivated', -1.6739764335716716),\n",
       " ('laughably', -1.6691571471357227),\n",
       " ('pia', -1.6650077635889111),\n",
       " ('warehouse', -1.6650077635889111),\n",
       " ('faye', -1.6650077635889111),\n",
       " ('pile', -1.6625477377480489),\n",
       " ('dino', -1.6582280766035324),\n",
       " ('shoddy', -1.6582280766035324),\n",
       " ('springer', -1.6582280766035324),\n",
       " ('pills', -1.6582280766035324),\n",
       " ('someones', -1.6582280766035324),\n",
       " ('hideously', -1.6582280766035324),\n",
       " ('sock', -1.6582280766035324),\n",
       " ('stupid', -1.65455834771457),\n",
       " ('groan', -1.6486586255873816),\n",
       " ('nell', -1.6486586255873816),\n",
       " ('amateurs', -1.6486586255873816),\n",
       " ('wicker', -1.6486586255873816),\n",
       " ('minions', -1.6486586255873816),\n",
       " ('nonexistent', -1.6422277352570913),\n",
       " ('bearable', -1.6422277352570913),\n",
       " ('claus', -1.6397432619294292),\n",
       " ('englund', -1.6376087894007967),\n",
       " ('tolerable', -1.6314168191528755),\n",
       " ('headache', -1.62924053973028),\n",
       " ('ashamed', -1.6171007851796695),\n",
       " ('vampires', -1.6143041020852733),\n",
       " ('gumby', -1.6094379124341003),\n",
       " ('scuttle', -1.6094379124341003),\n",
       " ('seeps', -1.6094379124341003),\n",
       " ('wheeling', -1.6094379124341003),\n",
       " ('cheesey', -1.6094379124341003),\n",
       " ('subscription', -1.6094379124341003),\n",
       " ('affirm', -1.6094379124341003),\n",
       " ('severing', -1.6094379124341003),\n",
       " ('dullard', -1.6094379124341003),\n",
       " ('raiding', -1.6094379124341003),\n",
       " ('rabbi', -1.6094379124341003),\n",
       " ('franciscus', -1.6094379124341003),\n",
       " ('overplays', -1.6094379124341003),\n",
       " ('pyramid', -1.6094379124341003),\n",
       " ('inexpressive', -1.6094379124341003),\n",
       " ('kazuo', -1.6094379124341003),\n",
       " ('bukowski', -1.6094379124341003),\n",
       " ('lobo', -1.6094379124341003),\n",
       " ('satanist', -1.6094379124341003),\n",
       " ('noland', -1.6094379124341003),\n",
       " ('barrel', -1.6094379124341003),\n",
       " ...]"
      ]
     },
     "execution_count": 33,
     "metadata": {},
     "output_type": "execute_result"
    }
   ],
   "source": [
    "pos_neg_ratio.most_common()[::-1]"
   ]
  },
  {
   "cell_type": "code",
   "execution_count": null,
   "metadata": {
    "collapsed": true
   },
   "outputs": [],
   "source": []
  },
  {
   "cell_type": "code",
   "execution_count": 6,
   "metadata": {},
   "outputs": [
    {
     "data": {
      "image/png": "[encoded data removed]",
      "text/plain": [
       "<IPython.core.display.Image object>"
      ]
     },
     "execution_count": 6,
     "metadata": {},
     "output_type": "execute_result"
    }
   ],
   "source": [
    "Image(filename='sentiment_network_sparse_2.png')"
   ]
  },
  {
   "cell_type": "code",
   "execution_count": 7,
   "metadata": {},
   "outputs": [
    {
     "ename": "NameError",
     "evalue": "name 'pos_neg_ratios' is not defined",
     "output_type": "error",
     "traceback": [
      "\u001b[0;31m---------------------------------------------------------------------------\u001b[0m",
      "\u001b[0;31mNameError\u001b[0m                                 Traceback (most recent call last)",
      "\u001b[0;32m<ipython-input-7-77a7757d3536>\u001b[0m in \u001b[0;36m<module>\u001b[0;34m()\u001b[0m\n\u001b[1;32m      1\u001b[0m \u001b[0;31m# words most frequently seen in a review with a \"POSITIVE\" label\u001b[0m\u001b[0;34m\u001b[0m\u001b[0;34m\u001b[0m\u001b[0m\n\u001b[0;32m----> 2\u001b[0;31m \u001b[0mpos_neg_ratios\u001b[0m\u001b[0;34m.\u001b[0m\u001b[0mmost_common\u001b[0m\u001b[0;34m(\u001b[0m\u001b[0;34m)\u001b[0m\u001b[0;34m\u001b[0m\u001b[0m\n\u001b[0m",
      "\u001b[0;31mNameError\u001b[0m: name 'pos_neg_ratios' is not defined"
     ]
    }
   ],
   "source": [
    "# words most frequently seen in a review with a \"POSITIVE\" label\n",
    "pos_neg_ratios.most_common()"
   ]
  },
  {
   "cell_type": "code",
   "execution_count": null,
   "metadata": {
    "collapsed": true
   },
   "outputs": [],
   "source": [
    "# words most frequently seen in a review with a \"NEGATIVE\" label\n",
    "list(reversed(pos_neg_ratios.most_common()))[0:30]"
   ]
  },
  {
   "cell_type": "code",
   "execution_count": null,
   "metadata": {
    "collapsed": true
   },
   "outputs": [],
   "source": [
    "from bokeh.models import ColumnDataSource, LabelSet\n",
    "from bokeh.plotting import figure, show, output_file\n",
    "from bokeh.io import output_notebook\n",
    "output_notebook()"
   ]
  },
  {
   "cell_type": "code",
   "execution_count": null,
   "metadata": {
    "collapsed": true
   },
   "outputs": [],
   "source": [
    "hist, edges = np.histogram(list(map(lambda x:x[1],pos_neg_ratios.most_common())), density=True, bins=100, normed=True)\n",
    "\n",
    "p = figure(tools=\"pan,wheel_zoom,reset,save\",\n",
    "           toolbar_location=\"above\",\n",
    "           title=\"Word Positive/Negative Affinity Distribution\")\n",
    "p.quad(top=hist, bottom=0, left=edges[:-1], right=edges[1:], line_color=\"#555555\")\n",
    "show(p)"
   ]
  },
  {
   "cell_type": "code",
   "execution_count": null,
   "metadata": {
    "collapsed": true
   },
   "outputs": [],
   "source": [
    "frequency_frequency = Counter()\n",
    "\n",
    "for word, cnt in total_counts.most_common():\n",
    "    frequency_frequency[cnt] += 1"
   ]
  },
  {
   "cell_type": "code",
   "execution_count": null,
   "metadata": {
    "collapsed": true
   },
   "outputs": [],
   "source": [
    "hist, edges = np.histogram(list(map(lambda x:x[1],frequency_frequency.most_common())), density=True, bins=100, normed=True)\n",
    "\n",
    "p = figure(tools=\"pan,wheel_zoom,reset,save\",\n",
    "           toolbar_location=\"above\",\n",
    "           title=\"The frequency distribution of the words in our corpus\")\n",
    "p.quad(top=hist, bottom=0, left=edges[:-1], right=edges[1:], line_color=\"#555555\")\n",
    "show(p)"
   ]
  },
  {
   "cell_type": "markdown",
   "metadata": {},
   "source": [
    "# Project 6: Reducing Noise by Strategically Reducing the Vocabulary<a id='project_6'></a>\n",
    "\n",
    "**TODO:** Improve `SentimentNetwork`'s performance by reducing more noise in the vocabulary. Specifically, do the following:\n",
    "* Copy the `SentimentNetwork` class from the previous project into the following cell.\n",
    "* Modify `pre_process_data`:\n",
    ">* Add two additional parameters: `min_count` and `polarity_cutoff`\n",
    ">* Calculate the positive-to-negative ratios of words used in the reviews. (You can use code you've written elsewhere in the notebook, but we are moving it into the class like we did with other helper code earlier.)\n",
    ">* Andrew's solution only calculates a postive-to-negative ratio for words that occur at least 50 times. This keeps the network from attributing too much sentiment to rarer words. You can choose to add this to your solution if you would like.  \n",
    ">* Change so words are only added to the vocabulary if they occur in the vocabulary more than `min_count` times.\n",
    ">* Change so words are only added to the vocabulary if the absolute value of their postive-to-negative ratio is at least `polarity_cutoff`\n",
    "* Modify `__init__`:\n",
    ">* Add the same two parameters (`min_count` and `polarity_cutoff`) and use them when you call `pre_process_data`"
   ]
  },
  {
   "cell_type": "code",
   "execution_count": null,
   "metadata": {
    "collapsed": true
   },
   "outputs": [],
   "source": [
    "# TODO: -Copy the SentimentNetwork class from Project 5 lesson\n",
    "#       -Modify it according to the above instructions "
   ]
  },
  {
   "cell_type": "markdown",
   "metadata": {},
   "source": [
    "Run the following cell to train your network with a small polarity cutoff."
   ]
  },
  {
   "cell_type": "code",
   "execution_count": null,
   "metadata": {
    "collapsed": true
   },
   "outputs": [],
   "source": [
    "mlp = SentimentNetwork(reviews[:-1000],labels[:-1000],min_count=20,polarity_cutoff=0.05,learning_rate=0.01)\n",
    "mlp.train(reviews[:-1000],labels[:-1000])"
   ]
  },
  {
   "cell_type": "markdown",
   "metadata": {},
   "source": [
    "And run the following cell to test it's performance. It should be "
   ]
  },
  {
   "cell_type": "code",
   "execution_count": null,
   "metadata": {
    "collapsed": true
   },
   "outputs": [],
   "source": [
    "mlp.test(reviews[-1000:],labels[-1000:])"
   ]
  },
  {
   "cell_type": "markdown",
   "metadata": {},
   "source": [
    "Run the following cell to train your network with a much larger polarity cutoff."
   ]
  },
  {
   "cell_type": "code",
   "execution_count": null,
   "metadata": {
    "collapsed": true
   },
   "outputs": [],
   "source": [
    "mlp = SentimentNetwork(reviews[:-1000],labels[:-1000],min_count=20,polarity_cutoff=0.8,learning_rate=0.01)\n",
    "mlp.train(reviews[:-1000],labels[:-1000])"
   ]
  },
  {
   "cell_type": "markdown",
   "metadata": {},
   "source": [
    "And run the following cell to test it's performance."
   ]
  },
  {
   "cell_type": "code",
   "execution_count": null,
   "metadata": {
    "collapsed": true
   },
   "outputs": [],
   "source": [
    "mlp.test(reviews[-1000:],labels[-1000:])"
   ]
  },
  {
   "cell_type": "markdown",
   "metadata": {},
   "source": [
    "# End of Project 6. \n",
    "## Watch the next video to see Andrew's solution, then continue on to the next lesson."
   ]
  },
  {
   "cell_type": "markdown",
   "metadata": {
    "collapsed": true
   },
   "source": [
    "# Analysis: What's Going on in the Weights?<a id='lesson_7'></a>"
   ]
  },
  {
   "cell_type": "code",
   "execution_count": null,
   "metadata": {
    "collapsed": true
   },
   "outputs": [],
   "source": [
    "mlp_full = SentimentNetwork(reviews[:-1000],labels[:-1000],min_count=0,polarity_cutoff=0,learning_rate=0.01)"
   ]
  },
  {
   "cell_type": "code",
   "execution_count": null,
   "metadata": {
    "collapsed": true
   },
   "outputs": [],
   "source": [
    "mlp_full.train(reviews[:-1000],labels[:-1000])"
   ]
  },
  {
   "cell_type": "code",
   "execution_count": null,
   "metadata": {
    "collapsed": true
   },
   "outputs": [],
   "source": [
    "Image(filename='sentiment_network_sparse.png')"
   ]
  },
  {
   "cell_type": "code",
   "execution_count": null,
   "metadata": {
    "collapsed": true
   },
   "outputs": [],
   "source": [
    "def get_most_similar_words(focus = \"horrible\"):\n",
    "    most_similar = Counter()\n",
    "\n",
    "    for word in mlp_full.word2index.keys():\n",
    "        most_similar[word] = np.dot(mlp_full.weights_0_1[mlp_full.word2index[word]],mlp_full.weights_0_1[mlp_full.word2index[focus]])\n",
    "    \n",
    "    return most_similar.most_common()"
   ]
  },
  {
   "cell_type": "code",
   "execution_count": null,
   "metadata": {
    "collapsed": true
   },
   "outputs": [],
   "source": [
    "get_most_similar_words(\"excellent\")"
   ]
  },
  {
   "cell_type": "code",
   "execution_count": null,
   "metadata": {
    "collapsed": true
   },
   "outputs": [],
   "source": [
    "get_most_similar_words(\"terrible\")"
   ]
  },
  {
   "cell_type": "code",
   "execution_count": null,
   "metadata": {
    "collapsed": true
   },
   "outputs": [],
   "source": [
    "import matplotlib.colors as colors\n",
    "\n",
    "words_to_visualize = list()\n",
    "for word, ratio in pos_neg_ratios.most_common(500):\n",
    "    if(word in mlp_full.word2index.keys()):\n",
    "        words_to_visualize.append(word)\n",
    "    \n",
    "for word, ratio in list(reversed(pos_neg_ratios.most_common()))[0:500]:\n",
    "    if(word in mlp_full.word2index.keys()):\n",
    "        words_to_visualize.append(word)"
   ]
  },
  {
   "cell_type": "code",
   "execution_count": null,
   "metadata": {
    "collapsed": true
   },
   "outputs": [],
   "source": [
    "pos = 0\n",
    "neg = 0\n",
    "\n",
    "colors_list = list()\n",
    "vectors_list = list()\n",
    "for word in words_to_visualize:\n",
    "    if word in pos_neg_ratios.keys():\n",
    "        vectors_list.append(mlp_full.weights_0_1[mlp_full.word2index[word]])\n",
    "        if(pos_neg_ratios[word] > 0):\n",
    "            pos+=1\n",
    "            colors_list.append(\"#00ff00\")\n",
    "        else:\n",
    "            neg+=1\n",
    "            colors_list.append(\"#000000\")"
   ]
  },
  {
   "cell_type": "code",
   "execution_count": null,
   "metadata": {
    "collapsed": true
   },
   "outputs": [],
   "source": [
    "from sklearn.manifold import TSNE\n",
    "tsne = TSNE(n_components=2, random_state=0)\n",
    "words_top_ted_tsne = tsne.fit_transform(vectors_list)"
   ]
  },
  {
   "cell_type": "code",
   "execution_count": null,
   "metadata": {
    "collapsed": true
   },
   "outputs": [],
   "source": [
    "p = figure(tools=\"pan,wheel_zoom,reset,save\",\n",
    "           toolbar_location=\"above\",\n",
    "           title=\"vector T-SNE for most polarized words\")\n",
    "\n",
    "source = ColumnDataSource(data=dict(x1=words_top_ted_tsne[:,0],\n",
    "                                    x2=words_top_ted_tsne[:,1],\n",
    "                                    names=words_to_visualize,\n",
    "                                    color=colors_list))\n",
    "\n",
    "p.scatter(x=\"x1\", y=\"x2\", size=8, source=source, fill_color=\"color\")\n",
    "\n",
    "word_labels = LabelSet(x=\"x1\", y=\"x2\", text=\"names\", y_offset=6,\n",
    "                  text_font_size=\"8pt\", text_color=\"#555555\",\n",
    "                  source=source, text_align='center')\n",
    "p.add_layout(word_labels)\n",
    "\n",
    "show(p)\n",
    "\n",
    "# green indicates positive words, black indicates negative words"
   ]
  }
 ],
 "metadata": {
  "anaconda-cloud": {},
  "kernelspec": {
   "display_name": "Python [default]",
   "language": "python",
   "name": "python3"
  },
  "language_info": {
   "codemirror_mode": {
    "name": "ipython",
    "version": 3
   },
   "file_extension": ".py",
   "mimetype": "text/x-python",
   "name": "python",
   "nbconvert_exporter": "python",
   "pygments_lexer": "ipython3",
   "version": "3.6.3"
  }
 },
 "nbformat": 4,
 "nbformat_minor": 1
}
